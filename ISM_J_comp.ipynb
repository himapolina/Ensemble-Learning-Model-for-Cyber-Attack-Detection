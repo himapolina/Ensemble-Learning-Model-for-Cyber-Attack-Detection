{
  "cells": [
    {
      "cell_type": "code",
      "execution_count": null,
      "metadata": {
        "id": "2lJ2_AjtMahE"
      },
      "outputs": [],
      "source": [
        "# module imports\n",
        "import numpy as np \n",
        "import pandas as pd \n",
        "import matplotlib.pyplot as plt\n",
        "import seaborn as sns\n",
        "import itertools\n",
        "import random\n",
        "\n",
        "from sklearn.ensemble import AdaBoostClassifier\n",
        "from sklearn.tree import DecisionTreeClassifier\n",
        "\n",
        "from sklearn.model_selection import train_test_split\n",
        "from sklearn.metrics import confusion_matrix\n",
        "from sklearn.preprocessing import LabelEncoder\n",
        "from sklearn.model_selection import cross_val_score\n",
        "from sklearn.metrics import mean_absolute_error\n",
        "from sklearn.metrics import accuracy_score\n",
        "from sklearn.metrics import confusion_matrix\n"
      ]
    },
    {
      "cell_type": "code",
      "execution_count": null,
      "metadata": {
        "id": "BPPOugy_McQW"
      },
      "outputs": [],
      "source": [
        "# fetch the training file\n",
        "file_path_20_percent = 'KDDTrain+_20Percent.txt'\n",
        "file_path_full_training_set = 'KDDTrain+.txt'\n",
        "file_path_test = 'KDDTest+.txt' \n",
        "\n",
        "#df = pd.read_csv(file_path_20_percent)\n",
        "df = pd.read_csv(file_path_full_training_set)\n",
        "test_df = pd.read_csv(file_path_test)"
      ]
    },
    {
      "cell_type": "code",
      "execution_count": null,
      "metadata": {
        "colab": {
          "base_uri": "https://localhost:8080/",
          "height": 299
        },
        "id": "k7DXtOKCMewW",
        "outputId": "174ddd83-3c03-4fa4-bd22-bd58ca72e3ef"
      },
      "outputs": [
        {
          "output_type": "execute_result",
          "data": {
            "text/plain": [
              "   duration protocol_type  service flag  src_bytes  dst_bytes  land  \\\n",
              "0         0           udp    other   SF        146          0     0   \n",
              "1         0           tcp  private   S0          0          0     0   \n",
              "2         0           tcp     http   SF        232       8153     0   \n",
              "3         0           tcp     http   SF        199        420     0   \n",
              "4         0           tcp  private  REJ          0          0     0   \n",
              "\n",
              "   wrong_fragment  urgent  hot  ...  dst_host_same_srv_rate  \\\n",
              "0               0       0    0  ...                    0.00   \n",
              "1               0       0    0  ...                    0.10   \n",
              "2               0       0    0  ...                    1.00   \n",
              "3               0       0    0  ...                    1.00   \n",
              "4               0       0    0  ...                    0.07   \n",
              "\n",
              "   dst_host_diff_srv_rate  dst_host_same_src_port_rate  \\\n",
              "0                    0.60                         0.88   \n",
              "1                    0.05                         0.00   \n",
              "2                    0.00                         0.03   \n",
              "3                    0.00                         0.00   \n",
              "4                    0.07                         0.00   \n",
              "\n",
              "   dst_host_srv_diff_host_rate  dst_host_serror_rate  \\\n",
              "0                         0.00                  0.00   \n",
              "1                         0.00                  1.00   \n",
              "2                         0.04                  0.03   \n",
              "3                         0.00                  0.00   \n",
              "4                         0.00                  0.00   \n",
              "\n",
              "   dst_host_srv_serror_rate  dst_host_rerror_rate  dst_host_srv_rerror_rate  \\\n",
              "0                      0.00                   0.0                      0.00   \n",
              "1                      1.00                   0.0                      0.00   \n",
              "2                      0.01                   0.0                      0.01   \n",
              "3                      0.00                   0.0                      0.00   \n",
              "4                      0.00                   1.0                      1.00   \n",
              "\n",
              "    attack  level  \n",
              "0   normal     15  \n",
              "1  neptune     19  \n",
              "2   normal     21  \n",
              "3   normal     21  \n",
              "4  neptune     21  \n",
              "\n",
              "[5 rows x 43 columns]"
            ],
            "text/html": [
              "\n",
              "  <div id=\"df-ff408c75-aa73-4e0f-863a-cc0a82fea905\">\n",
              "    <div class=\"colab-df-container\">\n",
              "      <div>\n",
              "<style scoped>\n",
              "    .dataframe tbody tr th:only-of-type {\n",
              "        vertical-align: middle;\n",
              "    }\n",
              "\n",
              "    .dataframe tbody tr th {\n",
              "        vertical-align: top;\n",
              "    }\n",
              "\n",
              "    .dataframe thead th {\n",
              "        text-align: right;\n",
              "    }\n",
              "</style>\n",
              "<table border=\"1\" class=\"dataframe\">\n",
              "  <thead>\n",
              "    <tr style=\"text-align: right;\">\n",
              "      <th></th>\n",
              "      <th>duration</th>\n",
              "      <th>protocol_type</th>\n",
              "      <th>service</th>\n",
              "      <th>flag</th>\n",
              "      <th>src_bytes</th>\n",
              "      <th>dst_bytes</th>\n",
              "      <th>land</th>\n",
              "      <th>wrong_fragment</th>\n",
              "      <th>urgent</th>\n",
              "      <th>hot</th>\n",
              "      <th>...</th>\n",
              "      <th>dst_host_same_srv_rate</th>\n",
              "      <th>dst_host_diff_srv_rate</th>\n",
              "      <th>dst_host_same_src_port_rate</th>\n",
              "      <th>dst_host_srv_diff_host_rate</th>\n",
              "      <th>dst_host_serror_rate</th>\n",
              "      <th>dst_host_srv_serror_rate</th>\n",
              "      <th>dst_host_rerror_rate</th>\n",
              "      <th>dst_host_srv_rerror_rate</th>\n",
              "      <th>attack</th>\n",
              "      <th>level</th>\n",
              "    </tr>\n",
              "  </thead>\n",
              "  <tbody>\n",
              "    <tr>\n",
              "      <th>0</th>\n",
              "      <td>0</td>\n",
              "      <td>udp</td>\n",
              "      <td>other</td>\n",
              "      <td>SF</td>\n",
              "      <td>146</td>\n",
              "      <td>0</td>\n",
              "      <td>0</td>\n",
              "      <td>0</td>\n",
              "      <td>0</td>\n",
              "      <td>0</td>\n",
              "      <td>...</td>\n",
              "      <td>0.00</td>\n",
              "      <td>0.60</td>\n",
              "      <td>0.88</td>\n",
              "      <td>0.00</td>\n",
              "      <td>0.00</td>\n",
              "      <td>0.00</td>\n",
              "      <td>0.0</td>\n",
              "      <td>0.00</td>\n",
              "      <td>normal</td>\n",
              "      <td>15</td>\n",
              "    </tr>\n",
              "    <tr>\n",
              "      <th>1</th>\n",
              "      <td>0</td>\n",
              "      <td>tcp</td>\n",
              "      <td>private</td>\n",
              "      <td>S0</td>\n",
              "      <td>0</td>\n",
              "      <td>0</td>\n",
              "      <td>0</td>\n",
              "      <td>0</td>\n",
              "      <td>0</td>\n",
              "      <td>0</td>\n",
              "      <td>...</td>\n",
              "      <td>0.10</td>\n",
              "      <td>0.05</td>\n",
              "      <td>0.00</td>\n",
              "      <td>0.00</td>\n",
              "      <td>1.00</td>\n",
              "      <td>1.00</td>\n",
              "      <td>0.0</td>\n",
              "      <td>0.00</td>\n",
              "      <td>neptune</td>\n",
              "      <td>19</td>\n",
              "    </tr>\n",
              "    <tr>\n",
              "      <th>2</th>\n",
              "      <td>0</td>\n",
              "      <td>tcp</td>\n",
              "      <td>http</td>\n",
              "      <td>SF</td>\n",
              "      <td>232</td>\n",
              "      <td>8153</td>\n",
              "      <td>0</td>\n",
              "      <td>0</td>\n",
              "      <td>0</td>\n",
              "      <td>0</td>\n",
              "      <td>...</td>\n",
              "      <td>1.00</td>\n",
              "      <td>0.00</td>\n",
              "      <td>0.03</td>\n",
              "      <td>0.04</td>\n",
              "      <td>0.03</td>\n",
              "      <td>0.01</td>\n",
              "      <td>0.0</td>\n",
              "      <td>0.01</td>\n",
              "      <td>normal</td>\n",
              "      <td>21</td>\n",
              "    </tr>\n",
              "    <tr>\n",
              "      <th>3</th>\n",
              "      <td>0</td>\n",
              "      <td>tcp</td>\n",
              "      <td>http</td>\n",
              "      <td>SF</td>\n",
              "      <td>199</td>\n",
              "      <td>420</td>\n",
              "      <td>0</td>\n",
              "      <td>0</td>\n",
              "      <td>0</td>\n",
              "      <td>0</td>\n",
              "      <td>...</td>\n",
              "      <td>1.00</td>\n",
              "      <td>0.00</td>\n",
              "      <td>0.00</td>\n",
              "      <td>0.00</td>\n",
              "      <td>0.00</td>\n",
              "      <td>0.00</td>\n",
              "      <td>0.0</td>\n",
              "      <td>0.00</td>\n",
              "      <td>normal</td>\n",
              "      <td>21</td>\n",
              "    </tr>\n",
              "    <tr>\n",
              "      <th>4</th>\n",
              "      <td>0</td>\n",
              "      <td>tcp</td>\n",
              "      <td>private</td>\n",
              "      <td>REJ</td>\n",
              "      <td>0</td>\n",
              "      <td>0</td>\n",
              "      <td>0</td>\n",
              "      <td>0</td>\n",
              "      <td>0</td>\n",
              "      <td>0</td>\n",
              "      <td>...</td>\n",
              "      <td>0.07</td>\n",
              "      <td>0.07</td>\n",
              "      <td>0.00</td>\n",
              "      <td>0.00</td>\n",
              "      <td>0.00</td>\n",
              "      <td>0.00</td>\n",
              "      <td>1.0</td>\n",
              "      <td>1.00</td>\n",
              "      <td>neptune</td>\n",
              "      <td>21</td>\n",
              "    </tr>\n",
              "  </tbody>\n",
              "</table>\n",
              "<p>5 rows × 43 columns</p>\n",
              "</div>\n",
              "      <button class=\"colab-df-convert\" onclick=\"convertToInteractive('df-ff408c75-aa73-4e0f-863a-cc0a82fea905')\"\n",
              "              title=\"Convert this dataframe to an interactive table.\"\n",
              "              style=\"display:none;\">\n",
              "        \n",
              "  <svg xmlns=\"http://www.w3.org/2000/svg\" height=\"24px\"viewBox=\"0 0 24 24\"\n",
              "       width=\"24px\">\n",
              "    <path d=\"M0 0h24v24H0V0z\" fill=\"none\"/>\n",
              "    <path d=\"M18.56 5.44l.94 2.06.94-2.06 2.06-.94-2.06-.94-.94-2.06-.94 2.06-2.06.94zm-11 1L8.5 8.5l.94-2.06 2.06-.94-2.06-.94L8.5 2.5l-.94 2.06-2.06.94zm10 10l.94 2.06.94-2.06 2.06-.94-2.06-.94-.94-2.06-.94 2.06-2.06.94z\"/><path d=\"M17.41 7.96l-1.37-1.37c-.4-.4-.92-.59-1.43-.59-.52 0-1.04.2-1.43.59L10.3 9.45l-7.72 7.72c-.78.78-.78 2.05 0 2.83L4 21.41c.39.39.9.59 1.41.59.51 0 1.02-.2 1.41-.59l7.78-7.78 2.81-2.81c.8-.78.8-2.07 0-2.86zM5.41 20L4 18.59l7.72-7.72 1.47 1.35L5.41 20z\"/>\n",
              "  </svg>\n",
              "      </button>\n",
              "      \n",
              "  <style>\n",
              "    .colab-df-container {\n",
              "      display:flex;\n",
              "      flex-wrap:wrap;\n",
              "      gap: 12px;\n",
              "    }\n",
              "\n",
              "    .colab-df-convert {\n",
              "      background-color: #E8F0FE;\n",
              "      border: none;\n",
              "      border-radius: 50%;\n",
              "      cursor: pointer;\n",
              "      display: none;\n",
              "      fill: #1967D2;\n",
              "      height: 32px;\n",
              "      padding: 0 0 0 0;\n",
              "      width: 32px;\n",
              "    }\n",
              "\n",
              "    .colab-df-convert:hover {\n",
              "      background-color: #E2EBFA;\n",
              "      box-shadow: 0px 1px 2px rgba(60, 64, 67, 0.3), 0px 1px 3px 1px rgba(60, 64, 67, 0.15);\n",
              "      fill: #174EA6;\n",
              "    }\n",
              "\n",
              "    [theme=dark] .colab-df-convert {\n",
              "      background-color: #3B4455;\n",
              "      fill: #D2E3FC;\n",
              "    }\n",
              "\n",
              "    [theme=dark] .colab-df-convert:hover {\n",
              "      background-color: #434B5C;\n",
              "      box-shadow: 0px 1px 3px 1px rgba(0, 0, 0, 0.15);\n",
              "      filter: drop-shadow(0px 1px 2px rgba(0, 0, 0, 0.3));\n",
              "      fill: #FFFFFF;\n",
              "    }\n",
              "  </style>\n",
              "\n",
              "      <script>\n",
              "        const buttonEl =\n",
              "          document.querySelector('#df-ff408c75-aa73-4e0f-863a-cc0a82fea905 button.colab-df-convert');\n",
              "        buttonEl.style.display =\n",
              "          google.colab.kernel.accessAllowed ? 'block' : 'none';\n",
              "\n",
              "        async function convertToInteractive(key) {\n",
              "          const element = document.querySelector('#df-ff408c75-aa73-4e0f-863a-cc0a82fea905');\n",
              "          const dataTable =\n",
              "            await google.colab.kernel.invokeFunction('convertToInteractive',\n",
              "                                                     [key], {});\n",
              "          if (!dataTable) return;\n",
              "\n",
              "          const docLinkHtml = 'Like what you see? Visit the ' +\n",
              "            '<a target=\"_blank\" href=https://colab.research.google.com/notebooks/data_table.ipynb>data table notebook</a>'\n",
              "            + ' to learn more about interactive tables.';\n",
              "          element.innerHTML = '';\n",
              "          dataTable['output_type'] = 'display_data';\n",
              "          await google.colab.output.renderOutput(dataTable, element);\n",
              "          const docLink = document.createElement('div');\n",
              "          docLink.innerHTML = docLinkHtml;\n",
              "          element.appendChild(docLink);\n",
              "        }\n",
              "      </script>\n",
              "    </div>\n",
              "  </div>\n",
              "  "
            ]
          },
          "metadata": {},
          "execution_count": 30
        }
      ],
      "source": [
        "# add the column labels\n",
        "columns = (['duration'\n",
        ",'protocol_type'\n",
        ",'service'\n",
        ",'flag'\n",
        ",'src_bytes'\n",
        ",'dst_bytes'\n",
        ",'land'\n",
        ",'wrong_fragment'\n",
        ",'urgent'\n",
        ",'hot'\n",
        ",'num_failed_logins'\n",
        ",'logged_in'\n",
        ",'num_compromised'\n",
        ",'root_shell'\n",
        ",'su_attempted'\n",
        ",'num_root'\n",
        ",'num_file_creations'\n",
        ",'num_shells'\n",
        ",'num_access_files'\n",
        ",'num_outbound_cmds'\n",
        ",'is_host_login'\n",
        ",'is_guest_login'\n",
        ",'count'\n",
        ",'srv_count'\n",
        ",'serror_rate'\n",
        ",'srv_serror_rate'\n",
        ",'rerror_rate'\n",
        ",'srv_rerror_rate'\n",
        ",'same_srv_rate'\n",
        ",'diff_srv_rate'\n",
        ",'srv_diff_host_rate'\n",
        ",'dst_host_count'\n",
        ",'dst_host_srv_count'\n",
        ",'dst_host_same_srv_rate'\n",
        ",'dst_host_diff_srv_rate'\n",
        ",'dst_host_same_src_port_rate'\n",
        ",'dst_host_srv_diff_host_rate'\n",
        ",'dst_host_serror_rate'\n",
        ",'dst_host_srv_serror_rate'\n",
        ",'dst_host_rerror_rate'\n",
        ",'dst_host_srv_rerror_rate'\n",
        ",'attack'\n",
        ",'level'])\n",
        "\n",
        "df.columns = columns\n",
        "test_df.columns = columns\n",
        "\n",
        "# sanity check\n",
        "df.head()\n"
      ]
    },
    {
      "cell_type": "code",
      "execution_count": null,
      "metadata": {
        "colab": {
          "base_uri": "https://localhost:8080/",
          "height": 299
        },
        "id": "pjcmnMn0Mgy4",
        "outputId": "cdeca39d-9775-4b4b-bbbb-04837c27ff04"
      },
      "outputs": [
        {
          "output_type": "execute_result",
          "data": {
            "text/plain": [
              "   duration protocol_type  service flag  src_bytes  dst_bytes  land  \\\n",
              "0         0           udp    other   SF        146          0     0   \n",
              "1         0           tcp  private   S0          0          0     0   \n",
              "2         0           tcp     http   SF        232       8153     0   \n",
              "3         0           tcp     http   SF        199        420     0   \n",
              "4         0           tcp  private  REJ          0          0     0   \n",
              "\n",
              "   wrong_fragment  urgent  hot  ...  dst_host_diff_srv_rate  \\\n",
              "0               0       0    0  ...                    0.60   \n",
              "1               0       0    0  ...                    0.05   \n",
              "2               0       0    0  ...                    0.00   \n",
              "3               0       0    0  ...                    0.00   \n",
              "4               0       0    0  ...                    0.07   \n",
              "\n",
              "   dst_host_same_src_port_rate  dst_host_srv_diff_host_rate  \\\n",
              "0                         0.88                         0.00   \n",
              "1                         0.00                         0.00   \n",
              "2                         0.03                         0.04   \n",
              "3                         0.00                         0.00   \n",
              "4                         0.00                         0.00   \n",
              "\n",
              "   dst_host_serror_rate  dst_host_srv_serror_rate  dst_host_rerror_rate  \\\n",
              "0                  0.00                      0.00                   0.0   \n",
              "1                  1.00                      1.00                   0.0   \n",
              "2                  0.03                      0.01                   0.0   \n",
              "3                  0.00                      0.00                   0.0   \n",
              "4                  0.00                      0.00                   1.0   \n",
              "\n",
              "   dst_host_srv_rerror_rate   attack  level  attack_flag  \n",
              "0                      0.00   normal     15            0  \n",
              "1                      0.00  neptune     19            1  \n",
              "2                      0.01   normal     21            0  \n",
              "3                      0.00   normal     21            0  \n",
              "4                      1.00  neptune     21            1  \n",
              "\n",
              "[5 rows x 44 columns]"
            ],
            "text/html": [
              "\n",
              "  <div id=\"df-ba37312c-bc86-46e3-a5a6-ace4f03cccdc\">\n",
              "    <div class=\"colab-df-container\">\n",
              "      <div>\n",
              "<style scoped>\n",
              "    .dataframe tbody tr th:only-of-type {\n",
              "        vertical-align: middle;\n",
              "    }\n",
              "\n",
              "    .dataframe tbody tr th {\n",
              "        vertical-align: top;\n",
              "    }\n",
              "\n",
              "    .dataframe thead th {\n",
              "        text-align: right;\n",
              "    }\n",
              "</style>\n",
              "<table border=\"1\" class=\"dataframe\">\n",
              "  <thead>\n",
              "    <tr style=\"text-align: right;\">\n",
              "      <th></th>\n",
              "      <th>duration</th>\n",
              "      <th>protocol_type</th>\n",
              "      <th>service</th>\n",
              "      <th>flag</th>\n",
              "      <th>src_bytes</th>\n",
              "      <th>dst_bytes</th>\n",
              "      <th>land</th>\n",
              "      <th>wrong_fragment</th>\n",
              "      <th>urgent</th>\n",
              "      <th>hot</th>\n",
              "      <th>...</th>\n",
              "      <th>dst_host_diff_srv_rate</th>\n",
              "      <th>dst_host_same_src_port_rate</th>\n",
              "      <th>dst_host_srv_diff_host_rate</th>\n",
              "      <th>dst_host_serror_rate</th>\n",
              "      <th>dst_host_srv_serror_rate</th>\n",
              "      <th>dst_host_rerror_rate</th>\n",
              "      <th>dst_host_srv_rerror_rate</th>\n",
              "      <th>attack</th>\n",
              "      <th>level</th>\n",
              "      <th>attack_flag</th>\n",
              "    </tr>\n",
              "  </thead>\n",
              "  <tbody>\n",
              "    <tr>\n",
              "      <th>0</th>\n",
              "      <td>0</td>\n",
              "      <td>udp</td>\n",
              "      <td>other</td>\n",
              "      <td>SF</td>\n",
              "      <td>146</td>\n",
              "      <td>0</td>\n",
              "      <td>0</td>\n",
              "      <td>0</td>\n",
              "      <td>0</td>\n",
              "      <td>0</td>\n",
              "      <td>...</td>\n",
              "      <td>0.60</td>\n",
              "      <td>0.88</td>\n",
              "      <td>0.00</td>\n",
              "      <td>0.00</td>\n",
              "      <td>0.00</td>\n",
              "      <td>0.0</td>\n",
              "      <td>0.00</td>\n",
              "      <td>normal</td>\n",
              "      <td>15</td>\n",
              "      <td>0</td>\n",
              "    </tr>\n",
              "    <tr>\n",
              "      <th>1</th>\n",
              "      <td>0</td>\n",
              "      <td>tcp</td>\n",
              "      <td>private</td>\n",
              "      <td>S0</td>\n",
              "      <td>0</td>\n",
              "      <td>0</td>\n",
              "      <td>0</td>\n",
              "      <td>0</td>\n",
              "      <td>0</td>\n",
              "      <td>0</td>\n",
              "      <td>...</td>\n",
              "      <td>0.05</td>\n",
              "      <td>0.00</td>\n",
              "      <td>0.00</td>\n",
              "      <td>1.00</td>\n",
              "      <td>1.00</td>\n",
              "      <td>0.0</td>\n",
              "      <td>0.00</td>\n",
              "      <td>neptune</td>\n",
              "      <td>19</td>\n",
              "      <td>1</td>\n",
              "    </tr>\n",
              "    <tr>\n",
              "      <th>2</th>\n",
              "      <td>0</td>\n",
              "      <td>tcp</td>\n",
              "      <td>http</td>\n",
              "      <td>SF</td>\n",
              "      <td>232</td>\n",
              "      <td>8153</td>\n",
              "      <td>0</td>\n",
              "      <td>0</td>\n",
              "      <td>0</td>\n",
              "      <td>0</td>\n",
              "      <td>...</td>\n",
              "      <td>0.00</td>\n",
              "      <td>0.03</td>\n",
              "      <td>0.04</td>\n",
              "      <td>0.03</td>\n",
              "      <td>0.01</td>\n",
              "      <td>0.0</td>\n",
              "      <td>0.01</td>\n",
              "      <td>normal</td>\n",
              "      <td>21</td>\n",
              "      <td>0</td>\n",
              "    </tr>\n",
              "    <tr>\n",
              "      <th>3</th>\n",
              "      <td>0</td>\n",
              "      <td>tcp</td>\n",
              "      <td>http</td>\n",
              "      <td>SF</td>\n",
              "      <td>199</td>\n",
              "      <td>420</td>\n",
              "      <td>0</td>\n",
              "      <td>0</td>\n",
              "      <td>0</td>\n",
              "      <td>0</td>\n",
              "      <td>...</td>\n",
              "      <td>0.00</td>\n",
              "      <td>0.00</td>\n",
              "      <td>0.00</td>\n",
              "      <td>0.00</td>\n",
              "      <td>0.00</td>\n",
              "      <td>0.0</td>\n",
              "      <td>0.00</td>\n",
              "      <td>normal</td>\n",
              "      <td>21</td>\n",
              "      <td>0</td>\n",
              "    </tr>\n",
              "    <tr>\n",
              "      <th>4</th>\n",
              "      <td>0</td>\n",
              "      <td>tcp</td>\n",
              "      <td>private</td>\n",
              "      <td>REJ</td>\n",
              "      <td>0</td>\n",
              "      <td>0</td>\n",
              "      <td>0</td>\n",
              "      <td>0</td>\n",
              "      <td>0</td>\n",
              "      <td>0</td>\n",
              "      <td>...</td>\n",
              "      <td>0.07</td>\n",
              "      <td>0.00</td>\n",
              "      <td>0.00</td>\n",
              "      <td>0.00</td>\n",
              "      <td>0.00</td>\n",
              "      <td>1.0</td>\n",
              "      <td>1.00</td>\n",
              "      <td>neptune</td>\n",
              "      <td>21</td>\n",
              "      <td>1</td>\n",
              "    </tr>\n",
              "  </tbody>\n",
              "</table>\n",
              "<p>5 rows × 44 columns</p>\n",
              "</div>\n",
              "      <button class=\"colab-df-convert\" onclick=\"convertToInteractive('df-ba37312c-bc86-46e3-a5a6-ace4f03cccdc')\"\n",
              "              title=\"Convert this dataframe to an interactive table.\"\n",
              "              style=\"display:none;\">\n",
              "        \n",
              "  <svg xmlns=\"http://www.w3.org/2000/svg\" height=\"24px\"viewBox=\"0 0 24 24\"\n",
              "       width=\"24px\">\n",
              "    <path d=\"M0 0h24v24H0V0z\" fill=\"none\"/>\n",
              "    <path d=\"M18.56 5.44l.94 2.06.94-2.06 2.06-.94-2.06-.94-.94-2.06-.94 2.06-2.06.94zm-11 1L8.5 8.5l.94-2.06 2.06-.94-2.06-.94L8.5 2.5l-.94 2.06-2.06.94zm10 10l.94 2.06.94-2.06 2.06-.94-2.06-.94-.94-2.06-.94 2.06-2.06.94z\"/><path d=\"M17.41 7.96l-1.37-1.37c-.4-.4-.92-.59-1.43-.59-.52 0-1.04.2-1.43.59L10.3 9.45l-7.72 7.72c-.78.78-.78 2.05 0 2.83L4 21.41c.39.39.9.59 1.41.59.51 0 1.02-.2 1.41-.59l7.78-7.78 2.81-2.81c.8-.78.8-2.07 0-2.86zM5.41 20L4 18.59l7.72-7.72 1.47 1.35L5.41 20z\"/>\n",
              "  </svg>\n",
              "      </button>\n",
              "      \n",
              "  <style>\n",
              "    .colab-df-container {\n",
              "      display:flex;\n",
              "      flex-wrap:wrap;\n",
              "      gap: 12px;\n",
              "    }\n",
              "\n",
              "    .colab-df-convert {\n",
              "      background-color: #E8F0FE;\n",
              "      border: none;\n",
              "      border-radius: 50%;\n",
              "      cursor: pointer;\n",
              "      display: none;\n",
              "      fill: #1967D2;\n",
              "      height: 32px;\n",
              "      padding: 0 0 0 0;\n",
              "      width: 32px;\n",
              "    }\n",
              "\n",
              "    .colab-df-convert:hover {\n",
              "      background-color: #E2EBFA;\n",
              "      box-shadow: 0px 1px 2px rgba(60, 64, 67, 0.3), 0px 1px 3px 1px rgba(60, 64, 67, 0.15);\n",
              "      fill: #174EA6;\n",
              "    }\n",
              "\n",
              "    [theme=dark] .colab-df-convert {\n",
              "      background-color: #3B4455;\n",
              "      fill: #D2E3FC;\n",
              "    }\n",
              "\n",
              "    [theme=dark] .colab-df-convert:hover {\n",
              "      background-color: #434B5C;\n",
              "      box-shadow: 0px 1px 3px 1px rgba(0, 0, 0, 0.15);\n",
              "      filter: drop-shadow(0px 1px 2px rgba(0, 0, 0, 0.3));\n",
              "      fill: #FFFFFF;\n",
              "    }\n",
              "  </style>\n",
              "\n",
              "      <script>\n",
              "        const buttonEl =\n",
              "          document.querySelector('#df-ba37312c-bc86-46e3-a5a6-ace4f03cccdc button.colab-df-convert');\n",
              "        buttonEl.style.display =\n",
              "          google.colab.kernel.accessAllowed ? 'block' : 'none';\n",
              "\n",
              "        async function convertToInteractive(key) {\n",
              "          const element = document.querySelector('#df-ba37312c-bc86-46e3-a5a6-ace4f03cccdc');\n",
              "          const dataTable =\n",
              "            await google.colab.kernel.invokeFunction('convertToInteractive',\n",
              "                                                     [key], {});\n",
              "          if (!dataTable) return;\n",
              "\n",
              "          const docLinkHtml = 'Like what you see? Visit the ' +\n",
              "            '<a target=\"_blank\" href=https://colab.research.google.com/notebooks/data_table.ipynb>data table notebook</a>'\n",
              "            + ' to learn more about interactive tables.';\n",
              "          element.innerHTML = '';\n",
              "          dataTable['output_type'] = 'display_data';\n",
              "          await google.colab.output.renderOutput(dataTable, element);\n",
              "          const docLink = document.createElement('div');\n",
              "          docLink.innerHTML = docLinkHtml;\n",
              "          element.appendChild(docLink);\n",
              "        }\n",
              "      </script>\n",
              "    </div>\n",
              "  </div>\n",
              "  "
            ]
          },
          "metadata": {},
          "execution_count": 31
        }
      ],
      "source": [
        "# map normal to 0, all attacks to 1\n",
        "is_attack = df.attack.map(lambda a: 0 if a == 'normal' else 1)\n",
        "test_attack = test_df.attack.map(lambda a: 0 if a == 'normal' else 1)\n",
        "\n",
        "#data_with_attack = df.join(is_attack, rsuffix='_flag')\n",
        "df['attack_flag'] = is_attack\n",
        "test_df['attack_flag'] = test_attack\n",
        "\n",
        "# view the result\n",
        "df.head()"
      ]
    },
    {
      "cell_type": "code",
      "execution_count": null,
      "metadata": {
        "colab": {
          "base_uri": "https://localhost:8080/"
        },
        "id": "IpMvYwDVMisx",
        "outputId": "54d6a668-7e5e-4548-cd4c-987cca6dd2d4"
      },
      "outputs": [
        {
          "output_type": "execute_result",
          "data": {
            "text/plain": [
              "(125972, 44)"
            ]
          },
          "metadata": {},
          "execution_count": 32
        }
      ],
      "source": [
        "np.shape(df)"
      ]
    },
    {
      "cell_type": "code",
      "execution_count": null,
      "metadata": {
        "colab": {
          "base_uri": "https://localhost:8080/"
        },
        "id": "gsQX-jEDMkEP",
        "outputId": "874f359d-8292-4bda-895c-abc5df040711"
      },
      "outputs": [
        {
          "output_type": "execute_result",
          "data": {
            "text/plain": [
              "{'icmp', 'tcp', 'udp'}"
            ]
          },
          "metadata": {},
          "execution_count": 33
        }
      ],
      "source": [
        "set(df['protocol_type'])"
      ]
    },
    {
      "cell_type": "code",
      "execution_count": null,
      "metadata": {
        "colab": {
          "base_uri": "https://localhost:8080/"
        },
        "id": "aW5z2K-1MlZr",
        "outputId": "a431a07a-45cf-45cf-cd92-2ffaf82e4377"
      },
      "outputs": [
        {
          "output_type": "execute_result",
          "data": {
            "text/plain": [
              "{'back',\n",
              " 'buffer_overflow',\n",
              " 'ftp_write',\n",
              " 'guess_passwd',\n",
              " 'imap',\n",
              " 'ipsweep',\n",
              " 'land',\n",
              " 'loadmodule',\n",
              " 'multihop',\n",
              " 'neptune',\n",
              " 'nmap',\n",
              " 'normal',\n",
              " 'perl',\n",
              " 'phf',\n",
              " 'pod',\n",
              " 'portsweep',\n",
              " 'rootkit',\n",
              " 'satan',\n",
              " 'smurf',\n",
              " 'spy',\n",
              " 'teardrop',\n",
              " 'warezclient',\n",
              " 'warezmaster'}"
            ]
          },
          "metadata": {},
          "execution_count": 34
        }
      ],
      "source": [
        "set(df['attack'])"
      ]
    },
    {
      "cell_type": "code",
      "execution_count": null,
      "metadata": {
        "colab": {
          "base_uri": "https://localhost:8080/"
        },
        "id": "9VflxrxRMmph",
        "outputId": "7a5e15f1-683b-4039-a798-761aad25c6d3"
      },
      "outputs": [
        {
          "output_type": "execute_result",
          "data": {
            "text/plain": [
              "{'IRC',\n",
              " 'X11',\n",
              " 'Z39_50',\n",
              " 'aol',\n",
              " 'auth',\n",
              " 'bgp',\n",
              " 'courier',\n",
              " 'csnet_ns',\n",
              " 'ctf',\n",
              " 'daytime',\n",
              " 'discard',\n",
              " 'domain',\n",
              " 'domain_u',\n",
              " 'echo',\n",
              " 'eco_i',\n",
              " 'ecr_i',\n",
              " 'efs',\n",
              " 'exec',\n",
              " 'finger',\n",
              " 'ftp',\n",
              " 'ftp_data',\n",
              " 'gopher',\n",
              " 'harvest',\n",
              " 'hostnames',\n",
              " 'http',\n",
              " 'http_2784',\n",
              " 'http_443',\n",
              " 'http_8001',\n",
              " 'imap4',\n",
              " 'iso_tsap',\n",
              " 'klogin',\n",
              " 'kshell',\n",
              " 'ldap',\n",
              " 'link',\n",
              " 'login',\n",
              " 'mtp',\n",
              " 'name',\n",
              " 'netbios_dgm',\n",
              " 'netbios_ns',\n",
              " 'netbios_ssn',\n",
              " 'netstat',\n",
              " 'nnsp',\n",
              " 'nntp',\n",
              " 'ntp_u',\n",
              " 'other',\n",
              " 'pm_dump',\n",
              " 'pop_2',\n",
              " 'pop_3',\n",
              " 'printer',\n",
              " 'private',\n",
              " 'red_i',\n",
              " 'remote_job',\n",
              " 'rje',\n",
              " 'shell',\n",
              " 'smtp',\n",
              " 'sql_net',\n",
              " 'ssh',\n",
              " 'sunrpc',\n",
              " 'supdup',\n",
              " 'systat',\n",
              " 'telnet',\n",
              " 'tftp_u',\n",
              " 'tim_i',\n",
              " 'time',\n",
              " 'urh_i',\n",
              " 'urp_i',\n",
              " 'uucp',\n",
              " 'uucp_path',\n",
              " 'vmnet',\n",
              " 'whois'}"
            ]
          },
          "metadata": {},
          "execution_count": 35
        }
      ],
      "source": [
        "set(df['service'])"
      ]
    },
    {
      "cell_type": "code",
      "execution_count": null,
      "metadata": {
        "colab": {
          "base_uri": "https://localhost:8080/",
          "height": 299
        },
        "id": "wtaKwd_nMpCZ",
        "outputId": "bd0472ab-5b91-46df-9e89-0e11f86b09fb"
      },
      "outputs": [
        {
          "output_type": "execute_result",
          "data": {
            "text/plain": [
              "   duration protocol_type  service flag  src_bytes  dst_bytes  land  \\\n",
              "0         0           udp    other   SF        146          0     0   \n",
              "1         0           tcp  private   S0          0          0     0   \n",
              "2         0           tcp     http   SF        232       8153     0   \n",
              "3         0           tcp     http   SF        199        420     0   \n",
              "4         0           tcp  private  REJ          0          0     0   \n",
              "\n",
              "   wrong_fragment  urgent  hot  ...  dst_host_same_src_port_rate  \\\n",
              "0               0       0    0  ...                         0.88   \n",
              "1               0       0    0  ...                         0.00   \n",
              "2               0       0    0  ...                         0.03   \n",
              "3               0       0    0  ...                         0.00   \n",
              "4               0       0    0  ...                         0.00   \n",
              "\n",
              "   dst_host_srv_diff_host_rate  dst_host_serror_rate  \\\n",
              "0                         0.00                  0.00   \n",
              "1                         0.00                  1.00   \n",
              "2                         0.04                  0.03   \n",
              "3                         0.00                  0.00   \n",
              "4                         0.00                  0.00   \n",
              "\n",
              "   dst_host_srv_serror_rate  dst_host_rerror_rate  dst_host_srv_rerror_rate  \\\n",
              "0                      0.00                   0.0                      0.00   \n",
              "1                      1.00                   0.0                      0.00   \n",
              "2                      0.01                   0.0                      0.01   \n",
              "3                      0.00                   0.0                      0.00   \n",
              "4                      0.00                   1.0                      1.00   \n",
              "\n",
              "    attack  level  attack_flag  attack_map  \n",
              "0   normal     15            0           0  \n",
              "1  neptune     19            1           1  \n",
              "2   normal     21            0           0  \n",
              "3   normal     21            0           0  \n",
              "4  neptune     21            1           1  \n",
              "\n",
              "[5 rows x 45 columns]"
            ],
            "text/html": [
              "\n",
              "  <div id=\"df-9e66c15c-aa9a-4020-a7f9-34b7307bbd20\">\n",
              "    <div class=\"colab-df-container\">\n",
              "      <div>\n",
              "<style scoped>\n",
              "    .dataframe tbody tr th:only-of-type {\n",
              "        vertical-align: middle;\n",
              "    }\n",
              "\n",
              "    .dataframe tbody tr th {\n",
              "        vertical-align: top;\n",
              "    }\n",
              "\n",
              "    .dataframe thead th {\n",
              "        text-align: right;\n",
              "    }\n",
              "</style>\n",
              "<table border=\"1\" class=\"dataframe\">\n",
              "  <thead>\n",
              "    <tr style=\"text-align: right;\">\n",
              "      <th></th>\n",
              "      <th>duration</th>\n",
              "      <th>protocol_type</th>\n",
              "      <th>service</th>\n",
              "      <th>flag</th>\n",
              "      <th>src_bytes</th>\n",
              "      <th>dst_bytes</th>\n",
              "      <th>land</th>\n",
              "      <th>wrong_fragment</th>\n",
              "      <th>urgent</th>\n",
              "      <th>hot</th>\n",
              "      <th>...</th>\n",
              "      <th>dst_host_same_src_port_rate</th>\n",
              "      <th>dst_host_srv_diff_host_rate</th>\n",
              "      <th>dst_host_serror_rate</th>\n",
              "      <th>dst_host_srv_serror_rate</th>\n",
              "      <th>dst_host_rerror_rate</th>\n",
              "      <th>dst_host_srv_rerror_rate</th>\n",
              "      <th>attack</th>\n",
              "      <th>level</th>\n",
              "      <th>attack_flag</th>\n",
              "      <th>attack_map</th>\n",
              "    </tr>\n",
              "  </thead>\n",
              "  <tbody>\n",
              "    <tr>\n",
              "      <th>0</th>\n",
              "      <td>0</td>\n",
              "      <td>udp</td>\n",
              "      <td>other</td>\n",
              "      <td>SF</td>\n",
              "      <td>146</td>\n",
              "      <td>0</td>\n",
              "      <td>0</td>\n",
              "      <td>0</td>\n",
              "      <td>0</td>\n",
              "      <td>0</td>\n",
              "      <td>...</td>\n",
              "      <td>0.88</td>\n",
              "      <td>0.00</td>\n",
              "      <td>0.00</td>\n",
              "      <td>0.00</td>\n",
              "      <td>0.0</td>\n",
              "      <td>0.00</td>\n",
              "      <td>normal</td>\n",
              "      <td>15</td>\n",
              "      <td>0</td>\n",
              "      <td>0</td>\n",
              "    </tr>\n",
              "    <tr>\n",
              "      <th>1</th>\n",
              "      <td>0</td>\n",
              "      <td>tcp</td>\n",
              "      <td>private</td>\n",
              "      <td>S0</td>\n",
              "      <td>0</td>\n",
              "      <td>0</td>\n",
              "      <td>0</td>\n",
              "      <td>0</td>\n",
              "      <td>0</td>\n",
              "      <td>0</td>\n",
              "      <td>...</td>\n",
              "      <td>0.00</td>\n",
              "      <td>0.00</td>\n",
              "      <td>1.00</td>\n",
              "      <td>1.00</td>\n",
              "      <td>0.0</td>\n",
              "      <td>0.00</td>\n",
              "      <td>neptune</td>\n",
              "      <td>19</td>\n",
              "      <td>1</td>\n",
              "      <td>1</td>\n",
              "    </tr>\n",
              "    <tr>\n",
              "      <th>2</th>\n",
              "      <td>0</td>\n",
              "      <td>tcp</td>\n",
              "      <td>http</td>\n",
              "      <td>SF</td>\n",
              "      <td>232</td>\n",
              "      <td>8153</td>\n",
              "      <td>0</td>\n",
              "      <td>0</td>\n",
              "      <td>0</td>\n",
              "      <td>0</td>\n",
              "      <td>...</td>\n",
              "      <td>0.03</td>\n",
              "      <td>0.04</td>\n",
              "      <td>0.03</td>\n",
              "      <td>0.01</td>\n",
              "      <td>0.0</td>\n",
              "      <td>0.01</td>\n",
              "      <td>normal</td>\n",
              "      <td>21</td>\n",
              "      <td>0</td>\n",
              "      <td>0</td>\n",
              "    </tr>\n",
              "    <tr>\n",
              "      <th>3</th>\n",
              "      <td>0</td>\n",
              "      <td>tcp</td>\n",
              "      <td>http</td>\n",
              "      <td>SF</td>\n",
              "      <td>199</td>\n",
              "      <td>420</td>\n",
              "      <td>0</td>\n",
              "      <td>0</td>\n",
              "      <td>0</td>\n",
              "      <td>0</td>\n",
              "      <td>...</td>\n",
              "      <td>0.00</td>\n",
              "      <td>0.00</td>\n",
              "      <td>0.00</td>\n",
              "      <td>0.00</td>\n",
              "      <td>0.0</td>\n",
              "      <td>0.00</td>\n",
              "      <td>normal</td>\n",
              "      <td>21</td>\n",
              "      <td>0</td>\n",
              "      <td>0</td>\n",
              "    </tr>\n",
              "    <tr>\n",
              "      <th>4</th>\n",
              "      <td>0</td>\n",
              "      <td>tcp</td>\n",
              "      <td>private</td>\n",
              "      <td>REJ</td>\n",
              "      <td>0</td>\n",
              "      <td>0</td>\n",
              "      <td>0</td>\n",
              "      <td>0</td>\n",
              "      <td>0</td>\n",
              "      <td>0</td>\n",
              "      <td>...</td>\n",
              "      <td>0.00</td>\n",
              "      <td>0.00</td>\n",
              "      <td>0.00</td>\n",
              "      <td>0.00</td>\n",
              "      <td>1.0</td>\n",
              "      <td>1.00</td>\n",
              "      <td>neptune</td>\n",
              "      <td>21</td>\n",
              "      <td>1</td>\n",
              "      <td>1</td>\n",
              "    </tr>\n",
              "  </tbody>\n",
              "</table>\n",
              "<p>5 rows × 45 columns</p>\n",
              "</div>\n",
              "      <button class=\"colab-df-convert\" onclick=\"convertToInteractive('df-9e66c15c-aa9a-4020-a7f9-34b7307bbd20')\"\n",
              "              title=\"Convert this dataframe to an interactive table.\"\n",
              "              style=\"display:none;\">\n",
              "        \n",
              "  <svg xmlns=\"http://www.w3.org/2000/svg\" height=\"24px\"viewBox=\"0 0 24 24\"\n",
              "       width=\"24px\">\n",
              "    <path d=\"M0 0h24v24H0V0z\" fill=\"none\"/>\n",
              "    <path d=\"M18.56 5.44l.94 2.06.94-2.06 2.06-.94-2.06-.94-.94-2.06-.94 2.06-2.06.94zm-11 1L8.5 8.5l.94-2.06 2.06-.94-2.06-.94L8.5 2.5l-.94 2.06-2.06.94zm10 10l.94 2.06.94-2.06 2.06-.94-2.06-.94-.94-2.06-.94 2.06-2.06.94z\"/><path d=\"M17.41 7.96l-1.37-1.37c-.4-.4-.92-.59-1.43-.59-.52 0-1.04.2-1.43.59L10.3 9.45l-7.72 7.72c-.78.78-.78 2.05 0 2.83L4 21.41c.39.39.9.59 1.41.59.51 0 1.02-.2 1.41-.59l7.78-7.78 2.81-2.81c.8-.78.8-2.07 0-2.86zM5.41 20L4 18.59l7.72-7.72 1.47 1.35L5.41 20z\"/>\n",
              "  </svg>\n",
              "      </button>\n",
              "      \n",
              "  <style>\n",
              "    .colab-df-container {\n",
              "      display:flex;\n",
              "      flex-wrap:wrap;\n",
              "      gap: 12px;\n",
              "    }\n",
              "\n",
              "    .colab-df-convert {\n",
              "      background-color: #E8F0FE;\n",
              "      border: none;\n",
              "      border-radius: 50%;\n",
              "      cursor: pointer;\n",
              "      display: none;\n",
              "      fill: #1967D2;\n",
              "      height: 32px;\n",
              "      padding: 0 0 0 0;\n",
              "      width: 32px;\n",
              "    }\n",
              "\n",
              "    .colab-df-convert:hover {\n",
              "      background-color: #E2EBFA;\n",
              "      box-shadow: 0px 1px 2px rgba(60, 64, 67, 0.3), 0px 1px 3px 1px rgba(60, 64, 67, 0.15);\n",
              "      fill: #174EA6;\n",
              "    }\n",
              "\n",
              "    [theme=dark] .colab-df-convert {\n",
              "      background-color: #3B4455;\n",
              "      fill: #D2E3FC;\n",
              "    }\n",
              "\n",
              "    [theme=dark] .colab-df-convert:hover {\n",
              "      background-color: #434B5C;\n",
              "      box-shadow: 0px 1px 3px 1px rgba(0, 0, 0, 0.15);\n",
              "      filter: drop-shadow(0px 1px 2px rgba(0, 0, 0, 0.3));\n",
              "      fill: #FFFFFF;\n",
              "    }\n",
              "  </style>\n",
              "\n",
              "      <script>\n",
              "        const buttonEl =\n",
              "          document.querySelector('#df-9e66c15c-aa9a-4020-a7f9-34b7307bbd20 button.colab-df-convert');\n",
              "        buttonEl.style.display =\n",
              "          google.colab.kernel.accessAllowed ? 'block' : 'none';\n",
              "\n",
              "        async function convertToInteractive(key) {\n",
              "          const element = document.querySelector('#df-9e66c15c-aa9a-4020-a7f9-34b7307bbd20');\n",
              "          const dataTable =\n",
              "            await google.colab.kernel.invokeFunction('convertToInteractive',\n",
              "                                                     [key], {});\n",
              "          if (!dataTable) return;\n",
              "\n",
              "          const docLinkHtml = 'Like what you see? Visit the ' +\n",
              "            '<a target=\"_blank\" href=https://colab.research.google.com/notebooks/data_table.ipynb>data table notebook</a>'\n",
              "            + ' to learn more about interactive tables.';\n",
              "          element.innerHTML = '';\n",
              "          dataTable['output_type'] = 'display_data';\n",
              "          await google.colab.output.renderOutput(dataTable, element);\n",
              "          const docLink = document.createElement('div');\n",
              "          docLink.innerHTML = docLinkHtml;\n",
              "          element.appendChild(docLink);\n",
              "        }\n",
              "      </script>\n",
              "    </div>\n",
              "  </div>\n",
              "  "
            ]
          },
          "metadata": {},
          "execution_count": 36
        }
      ],
      "source": [
        "# lists to hold our attack classifications\n",
        "dos_attacks = ['apache2','back','land','neptune','mailbomb','pod','processtable','smurf','teardrop','udpstorm','worm']\n",
        "probe_attacks = ['ipsweep','mscan','nmap','portsweep','saint','satan']\n",
        "privilege_attacks = ['buffer_overflow','loadmdoule','perl','ps','rootkit','sqlattack','xterm']\n",
        "access_attacks = ['ftp_write','guess_passwd','http_tunnel','imap','multihop','named','phf','sendmail','snmpgetattack','snmpguess','spy','warezclient','warezmaster','xclock','xsnoop']\n",
        "\n",
        "# we will use these for plotting below\n",
        "attack_labels = ['Normal','DoS','Probe','Privilege','Access']\n",
        "\n",
        "# helper function to pass to data frame mapping\n",
        "def map_attack(attack):\n",
        "    if attack in dos_attacks:\n",
        "        # dos_attacks map to 1\n",
        "        attack_type = 1\n",
        "    elif attack in probe_attacks:\n",
        "        # probe_attacks mapt to 2\n",
        "        attack_type = 2\n",
        "    elif attack in privilege_attacks:\n",
        "        # privilege escalation attacks map to 3\n",
        "        attack_type = 3\n",
        "    elif attack in access_attacks:\n",
        "        # remote access attacks map to 4\n",
        "        attack_type = 4\n",
        "    else:\n",
        "        # normal maps to 0\n",
        "        attack_type = 0\n",
        "        \n",
        "    return attack_type\n",
        "\n",
        "# map the data and join to the data set\n",
        "attack_map = df.attack.apply(map_attack)\n",
        "df['attack_map'] = attack_map\n",
        "\n",
        "test_attack_map = test_df.attack.apply(map_attack)\n",
        "test_df['attack_map'] = test_attack_map\n",
        "\n",
        "# view the result\n",
        "df.head()"
      ]
    },
    {
      "cell_type": "code",
      "execution_count": null,
      "metadata": {
        "colab": {
          "base_uri": "https://localhost:8080/"
        },
        "id": "iUyLFzWNMqWV",
        "outputId": "d5d4e190-e0b9-410e-da27-a0115e1e3a44"
      },
      "outputs": [
        {
          "output_type": "execute_result",
          "data": {
            "text/plain": [
              "{0, 1, 2, 3, 4}"
            ]
          },
          "metadata": {},
          "execution_count": 37
        }
      ],
      "source": [
        "set(df['attack_map'])"
      ]
    },
    {
      "cell_type": "code",
      "execution_count": null,
      "metadata": {
        "id": "JMWJRWRRQDDi"
      },
      "outputs": [],
      "source": [
        "def bake_pies(data_list,labels):\n",
        "    list_length = len(data_list)\n",
        "    \n",
        "    # setup for mapping colors\n",
        "    color_list = sns.color_palette()\n",
        "    color_cycle = itertools.cycle(color_list)\n",
        "    cdict = {}\n",
        "    \n",
        "    # build the subplots\n",
        "    fig, axs = plt.subplots(1, list_length,figsize=(18,10), tight_layout=False)\n",
        "    plt.subplots_adjust(wspace=1/list_length)\n",
        "    \n",
        "    # loop through the data sets and build the charts\n",
        "    for count, data_set in enumerate(data_list): \n",
        "        \n",
        "        # update our color mapt with new values\n",
        "        for num, value in enumerate(np.unique(data_set.index)):\n",
        "            if value not in cdict:\n",
        "                cdict[value] = next(color_cycle)\n",
        "       \n",
        "        # build the wedges\n",
        "        wedges,texts = axs[count].pie(data_set,\n",
        "                           colors=[cdict[v] for v in data_set.index])\n",
        "\n",
        "        # build the legend\n",
        "        axs[count].legend(wedges, data_set.index,\n",
        "                           title=\"Flags\",\n",
        "                           loc=\"center left\",\n",
        "                           bbox_to_anchor=(1, 0, 0.5, 1))\n",
        "        # set the title\n",
        "        axs[count].set_title(labels[count])\n",
        "        \n",
        "    return axs   "
      ]
    },
    {
      "cell_type": "code",
      "execution_count": null,
      "metadata": {
        "colab": {
          "base_uri": "https://localhost:8080/",
          "height": 449
        },
        "id": "XRCOeFxvMrrX",
        "outputId": "d81357e0-2604-471a-b23e-2dc33c582926"
      },
      "outputs": [
        {
          "output_type": "display_data",
          "data": {
            "text/plain": [
              "<Figure size 1296x720 with 2 Axes>"
            ],
            "image/png": "[encoded data removed]"
          },
          "metadata": {}
        }
      ],
      "source": [
        "# # get a series with the count of each flag for attack and normal traffic\n",
        "normal_flags = df.loc[df.attack_flag == 0].flag.value_counts()\n",
        "attack_flags = df.loc[df.attack_flag == 1].flag.value_counts()\n",
        "\n",
        "# # create the charts\n",
        "flag_axs = bake_pies([normal_flags, attack_flags], ['normal','attack'])        \n",
        "plt.show()"
      ]
    },
    {
      "cell_type": "code",
      "execution_count": null,
      "metadata": {
        "colab": {
          "base_uri": "https://localhost:8080/",
          "height": 1000
        },
        "id": "Hod-JiU3MuC3",
        "outputId": "3b8a5269-1430-46e3-cce1-8bbf0ae50d84"
      },
      "outputs": [
        {
          "output_type": "display_data",
          "data": {
            "text/plain": [
              "<Figure size 1296x720 with 2 Axes>"
            ],
            "image/png": "[encoded data removed]"
          },
          "metadata": {}
        }
      ],
      "source": [
        "# # get a series with the count of each service for attack and normal traffic\n",
        "normal_services = df.loc[df.attack_flag == 0].service.value_counts()\n",
        "attack_services = df.loc[df.attack_flag == 1].service.value_counts()\n",
        "\n",
        "# create the charts\n",
        "service_axs = bake_pies([normal_services, attack_services], ['normal','attack'])        \n",
        "plt.show()\n"
      ]
    },
    {
      "cell_type": "code",
      "execution_count": null,
      "metadata": {
        "id": "_vpwfozYMvcs"
      },
      "outputs": [],
      "source": [
        "# get the intial set of encoded features and encode them\n",
        "features_to_encode = ['protocol_type', 'service', 'flag']\n",
        "encoded = pd.get_dummies(df[features_to_encode])\n",
        "test_encoded_base = pd.get_dummies(test_df[features_to_encode])\n",
        "\n",
        "# not all of the features are in the test set, so we need to account for diffs\n",
        "test_index = np.arange(len(test_df.index))\n",
        "column_diffs = list(set(encoded.columns.values)-set(test_encoded_base.columns.values))\n",
        "\n",
        "diff_df = pd.DataFrame(0, index=test_index, columns=column_diffs)\n",
        "\n",
        "# we'll also need to reorder the columns to match, so let's get those\n",
        "column_order = encoded.columns.to_list()\n",
        "\n",
        "# append the new columns\n",
        "test_encoded_temp = test_encoded_base.join(diff_df)\n",
        "\n",
        "# reorder the columns\n",
        "test_final = test_encoded_temp[column_order].fillna(0)\n",
        "\n",
        "# get numeric features, we won't worry about encoding these at this point\n",
        "numeric_features = ['duration', 'src_bytes', 'dst_bytes']\n",
        "\n",
        "# model to fit/test\n",
        "to_fit = encoded.join(df[numeric_features])\n",
        "test_set = test_final.join(test_df[numeric_features])"
      ]
    },
    {
      "cell_type": "code",
      "execution_count": null,
      "metadata": {
        "id": "CsTQHlTUMw8L"
      },
      "outputs": [],
      "source": [
        "# create our target classifications\n",
        "binary_y = df['attack_flag']\n",
        "multi_y = df['attack_map']\n",
        "\n",
        "test_binary_y = test_df['attack_flag']\n",
        "test_multi_y = test_df['attack_map']\n",
        "\n",
        "# build the training sets\n",
        "binary_train_X, binary_val_X, binary_train_y, binary_val_y = train_test_split(to_fit, binary_y, test_size=0.6)\n",
        "multi_train_X, multi_val_X, multi_train_y, multi_val_y = train_test_split(to_fit, multi_y, test_size = 0.6)"
      ]
    },
    {
      "cell_type": "code",
      "execution_count": null,
      "metadata": {
        "colab": {
          "base_uri": "https://localhost:8080/"
        },
        "id": "PaqMMiXNMzAV",
        "outputId": "fc3e87fa-7980-46c5-9bc5-d6a5b6ea149d"
      },
      "outputs": [
        {
          "output_type": "stream",
          "name": "stdout",
          "text": [
            "<class 'pandas.core.frame.DataFrame'>\n",
            "Int64Index: 50388 entries, 40665 to 31423\n",
            "Data columns (total 87 columns):\n",
            " #   Column               Non-Null Count  Dtype\n",
            "---  ------               --------------  -----\n",
            " 0   protocol_type_icmp   50388 non-null  uint8\n",
            " 1   protocol_type_tcp    50388 non-null  uint8\n",
            " 2   protocol_type_udp    50388 non-null  uint8\n",
            " 3   service_IRC          50388 non-null  uint8\n",
            " 4   service_X11          50388 non-null  uint8\n",
            " 5   service_Z39_50       50388 non-null  uint8\n",
            " 6   service_aol          50388 non-null  uint8\n",
            " 7   service_auth         50388 non-null  uint8\n",
            " 8   service_bgp          50388 non-null  uint8\n",
            " 9   service_courier      50388 non-null  uint8\n",
            " 10  service_csnet_ns     50388 non-null  uint8\n",
            " 11  service_ctf          50388 non-null  uint8\n",
            " 12  service_daytime      50388 non-null  uint8\n",
            " 13  service_discard      50388 non-null  uint8\n",
            " 14  service_domain       50388 non-null  uint8\n",
            " 15  service_domain_u     50388 non-null  uint8\n",
            " 16  service_echo         50388 non-null  uint8\n",
            " 17  service_eco_i        50388 non-null  uint8\n",
            " 18  service_ecr_i        50388 non-null  uint8\n",
            " 19  service_efs          50388 non-null  uint8\n",
            " 20  service_exec         50388 non-null  uint8\n",
            " 21  service_finger       50388 non-null  uint8\n",
            " 22  service_ftp          50388 non-null  uint8\n",
            " 23  service_ftp_data     50388 non-null  uint8\n",
            " 24  service_gopher       50388 non-null  uint8\n",
            " 25  service_harvest      50388 non-null  uint8\n",
            " 26  service_hostnames    50388 non-null  uint8\n",
            " 27  service_http         50388 non-null  uint8\n",
            " 28  service_http_2784    50388 non-null  uint8\n",
            " 29  service_http_443     50388 non-null  uint8\n",
            " 30  service_http_8001    50388 non-null  uint8\n",
            " 31  service_imap4        50388 non-null  uint8\n",
            " 32  service_iso_tsap     50388 non-null  uint8\n",
            " 33  service_klogin       50388 non-null  uint8\n",
            " 34  service_kshell       50388 non-null  uint8\n",
            " 35  service_ldap         50388 non-null  uint8\n",
            " 36  service_link         50388 non-null  uint8\n",
            " 37  service_login        50388 non-null  uint8\n",
            " 38  service_mtp          50388 non-null  uint8\n",
            " 39  service_name         50388 non-null  uint8\n",
            " 40  service_netbios_dgm  50388 non-null  uint8\n",
            " 41  service_netbios_ns   50388 non-null  uint8\n",
            " 42  service_netbios_ssn  50388 non-null  uint8\n",
            " 43  service_netstat      50388 non-null  uint8\n",
            " 44  service_nnsp         50388 non-null  uint8\n",
            " 45  service_nntp         50388 non-null  uint8\n",
            " 46  service_ntp_u        50388 non-null  uint8\n",
            " 47  service_other        50388 non-null  uint8\n",
            " 48  service_pm_dump      50388 non-null  uint8\n",
            " 49  service_pop_2        50388 non-null  uint8\n",
            " 50  service_pop_3        50388 non-null  uint8\n",
            " 51  service_printer      50388 non-null  uint8\n",
            " 52  service_private      50388 non-null  uint8\n",
            " 53  service_red_i        50388 non-null  uint8\n",
            " 54  service_remote_job   50388 non-null  uint8\n",
            " 55  service_rje          50388 non-null  uint8\n",
            " 56  service_shell        50388 non-null  uint8\n",
            " 57  service_smtp         50388 non-null  uint8\n",
            " 58  service_sql_net      50388 non-null  uint8\n",
            " 59  service_ssh          50388 non-null  uint8\n",
            " 60  service_sunrpc       50388 non-null  uint8\n",
            " 61  service_supdup       50388 non-null  uint8\n",
            " 62  service_systat       50388 non-null  uint8\n",
            " 63  service_telnet       50388 non-null  uint8\n",
            " 64  service_tftp_u       50388 non-null  uint8\n",
            " 65  service_tim_i        50388 non-null  uint8\n",
            " 66  service_time         50388 non-null  uint8\n",
            " 67  service_urh_i        50388 non-null  uint8\n",
            " 68  service_urp_i        50388 non-null  uint8\n",
            " 69  service_uucp         50388 non-null  uint8\n",
            " 70  service_uucp_path    50388 non-null  uint8\n",
            " 71  service_vmnet        50388 non-null  uint8\n",
            " 72  service_whois        50388 non-null  uint8\n",
            " 73  flag_OTH             50388 non-null  uint8\n",
            " 74  flag_REJ             50388 non-null  uint8\n",
            " 75  flag_RSTO            50388 non-null  uint8\n",
            " 76  flag_RSTOS0          50388 non-null  uint8\n",
            " 77  flag_RSTR            50388 non-null  uint8\n",
            " 78  flag_S0              50388 non-null  uint8\n",
            " 79  flag_S1              50388 non-null  uint8\n",
            " 80  flag_S2              50388 non-null  uint8\n",
            " 81  flag_S3              50388 non-null  uint8\n",
            " 82  flag_SF              50388 non-null  uint8\n",
            " 83  flag_SH              50388 non-null  uint8\n",
            " 84  duration             50388 non-null  int64\n",
            " 85  src_bytes            50388 non-null  int64\n",
            " 86  dst_bytes            50388 non-null  int64\n",
            "dtypes: int64(3), uint8(84)\n",
            "memory usage: 5.6 MB\n"
          ]
        }
      ],
      "source": [
        "binary_train_X.info()"
      ]
    },
    {
      "cell_type": "code",
      "execution_count": null,
      "metadata": {
        "colab": {
          "base_uri": "https://localhost:8080/",
          "height": 299
        },
        "id": "eSb5lhJnM0Je",
        "outputId": "3e803f11-8f11-4cf7-e90f-39f8921d33f4"
      },
      "outputs": [
        {
          "output_type": "execute_result",
          "data": {
            "text/plain": [
              "        protocol_type_icmp  protocol_type_tcp  protocol_type_udp  service_IRC  \\\n",
              "116236                   0                  1                  0            0   \n",
              "104871                   0                  1                  0            0   \n",
              "70043                    0                  1                  0            0   \n",
              "98491                    0                  1                  0            0   \n",
              "11061                    0                  1                  0            0   \n",
              "\n",
              "        service_X11  service_Z39_50  service_aol  service_auth  service_bgp  \\\n",
              "116236            0               0            0             0            0   \n",
              "104871            0               0            0             0            0   \n",
              "70043             0               0            0             0            0   \n",
              "98491             0               0            0             0            0   \n",
              "11061             0               0            0             0            0   \n",
              "\n",
              "        service_courier  ...  flag_RSTR  flag_S0  flag_S1  flag_S2  flag_S3  \\\n",
              "116236                0  ...          1        0        0        0        0   \n",
              "104871                0  ...          0        1        0        0        0   \n",
              "70043                 0  ...          0        0        0        0        0   \n",
              "98491                 0  ...          0        1        0        0        0   \n",
              "11061                 0  ...          0        1        0        0        0   \n",
              "\n",
              "        flag_SF  flag_SH  duration  src_bytes  dst_bytes  \n",
              "116236        0        0         0          0          0  \n",
              "104871        0        0         0          0          0  \n",
              "70043         1        0         0        331       1972  \n",
              "98491         0        0         0          0          0  \n",
              "11061         0        0         0          0          0  \n",
              "\n",
              "[5 rows x 87 columns]"
            ],
            "text/html": [
              "\n",
              "  <div id=\"df-855e8fe0-6d12-431b-b538-101dd02ac54e\">\n",
              "    <div class=\"colab-df-container\">\n",
              "      <div>\n",
              "<style scoped>\n",
              "    .dataframe tbody tr th:only-of-type {\n",
              "        vertical-align: middle;\n",
              "    }\n",
              "\n",
              "    .dataframe tbody tr th {\n",
              "        vertical-align: top;\n",
              "    }\n",
              "\n",
              "    .dataframe thead th {\n",
              "        text-align: right;\n",
              "    }\n",
              "</style>\n",
              "<table border=\"1\" class=\"dataframe\">\n",
              "  <thead>\n",
              "    <tr style=\"text-align: right;\">\n",
              "      <th></th>\n",
              "      <th>protocol_type_icmp</th>\n",
              "      <th>protocol_type_tcp</th>\n",
              "      <th>protocol_type_udp</th>\n",
              "      <th>service_IRC</th>\n",
              "      <th>service_X11</th>\n",
              "      <th>service_Z39_50</th>\n",
              "      <th>service_aol</th>\n",
              "      <th>service_auth</th>\n",
              "      <th>service_bgp</th>\n",
              "      <th>service_courier</th>\n",
              "      <th>...</th>\n",
              "      <th>flag_RSTR</th>\n",
              "      <th>flag_S0</th>\n",
              "      <th>flag_S1</th>\n",
              "      <th>flag_S2</th>\n",
              "      <th>flag_S3</th>\n",
              "      <th>flag_SF</th>\n",
              "      <th>flag_SH</th>\n",
              "      <th>duration</th>\n",
              "      <th>src_bytes</th>\n",
              "      <th>dst_bytes</th>\n",
              "    </tr>\n",
              "  </thead>\n",
              "  <tbody>\n",
              "    <tr>\n",
              "      <th>116236</th>\n",
              "      <td>0</td>\n",
              "      <td>1</td>\n",
              "      <td>0</td>\n",
              "      <td>0</td>\n",
              "      <td>0</td>\n",
              "      <td>0</td>\n",
              "      <td>0</td>\n",
              "      <td>0</td>\n",
              "      <td>0</td>\n",
              "      <td>0</td>\n",
              "      <td>...</td>\n",
              "      <td>1</td>\n",
              "      <td>0</td>\n",
              "      <td>0</td>\n",
              "      <td>0</td>\n",
              "      <td>0</td>\n",
              "      <td>0</td>\n",
              "      <td>0</td>\n",
              "      <td>0</td>\n",
              "      <td>0</td>\n",
              "      <td>0</td>\n",
              "    </tr>\n",
              "    <tr>\n",
              "      <th>104871</th>\n",
              "      <td>0</td>\n",
              "      <td>1</td>\n",
              "      <td>0</td>\n",
              "      <td>0</td>\n",
              "      <td>0</td>\n",
              "      <td>0</td>\n",
              "      <td>0</td>\n",
              "      <td>0</td>\n",
              "      <td>0</td>\n",
              "      <td>0</td>\n",
              "      <td>...</td>\n",
              "      <td>0</td>\n",
              "      <td>1</td>\n",
              "      <td>0</td>\n",
              "      <td>0</td>\n",
              "      <td>0</td>\n",
              "      <td>0</td>\n",
              "      <td>0</td>\n",
              "      <td>0</td>\n",
              "      <td>0</td>\n",
              "      <td>0</td>\n",
              "    </tr>\n",
              "    <tr>\n",
              "      <th>70043</th>\n",
              "      <td>0</td>\n",
              "      <td>1</td>\n",
              "      <td>0</td>\n",
              "      <td>0</td>\n",
              "      <td>0</td>\n",
              "      <td>0</td>\n",
              "      <td>0</td>\n",
              "      <td>0</td>\n",
              "      <td>0</td>\n",
              "      <td>0</td>\n",
              "      <td>...</td>\n",
              "      <td>0</td>\n",
              "      <td>0</td>\n",
              "      <td>0</td>\n",
              "      <td>0</td>\n",
              "      <td>0</td>\n",
              "      <td>1</td>\n",
              "      <td>0</td>\n",
              "      <td>0</td>\n",
              "      <td>331</td>\n",
              "      <td>1972</td>\n",
              "    </tr>\n",
              "    <tr>\n",
              "      <th>98491</th>\n",
              "      <td>0</td>\n",
              "      <td>1</td>\n",
              "      <td>0</td>\n",
              "      <td>0</td>\n",
              "      <td>0</td>\n",
              "      <td>0</td>\n",
              "      <td>0</td>\n",
              "      <td>0</td>\n",
              "      <td>0</td>\n",
              "      <td>0</td>\n",
              "      <td>...</td>\n",
              "      <td>0</td>\n",
              "      <td>1</td>\n",
              "      <td>0</td>\n",
              "      <td>0</td>\n",
              "      <td>0</td>\n",
              "      <td>0</td>\n",
              "      <td>0</td>\n",
              "      <td>0</td>\n",
              "      <td>0</td>\n",
              "      <td>0</td>\n",
              "    </tr>\n",
              "    <tr>\n",
              "      <th>11061</th>\n",
              "      <td>0</td>\n",
              "      <td>1</td>\n",
              "      <td>0</td>\n",
              "      <td>0</td>\n",
              "      <td>0</td>\n",
              "      <td>0</td>\n",
              "      <td>0</td>\n",
              "      <td>0</td>\n",
              "      <td>0</td>\n",
              "      <td>0</td>\n",
              "      <td>...</td>\n",
              "      <td>0</td>\n",
              "      <td>1</td>\n",
              "      <td>0</td>\n",
              "      <td>0</td>\n",
              "      <td>0</td>\n",
              "      <td>0</td>\n",
              "      <td>0</td>\n",
              "      <td>0</td>\n",
              "      <td>0</td>\n",
              "      <td>0</td>\n",
              "    </tr>\n",
              "  </tbody>\n",
              "</table>\n",
              "<p>5 rows × 87 columns</p>\n",
              "</div>\n",
              "      <button class=\"colab-df-convert\" onclick=\"convertToInteractive('df-855e8fe0-6d12-431b-b538-101dd02ac54e')\"\n",
              "              title=\"Convert this dataframe to an interactive table.\"\n",
              "              style=\"display:none;\">\n",
              "        \n",
              "  <svg xmlns=\"http://www.w3.org/2000/svg\" height=\"24px\"viewBox=\"0 0 24 24\"\n",
              "       width=\"24px\">\n",
              "    <path d=\"M0 0h24v24H0V0z\" fill=\"none\"/>\n",
              "    <path d=\"M18.56 5.44l.94 2.06.94-2.06 2.06-.94-2.06-.94-.94-2.06-.94 2.06-2.06.94zm-11 1L8.5 8.5l.94-2.06 2.06-.94-2.06-.94L8.5 2.5l-.94 2.06-2.06.94zm10 10l.94 2.06.94-2.06 2.06-.94-2.06-.94-.94-2.06-.94 2.06-2.06.94z\"/><path d=\"M17.41 7.96l-1.37-1.37c-.4-.4-.92-.59-1.43-.59-.52 0-1.04.2-1.43.59L10.3 9.45l-7.72 7.72c-.78.78-.78 2.05 0 2.83L4 21.41c.39.39.9.59 1.41.59.51 0 1.02-.2 1.41-.59l7.78-7.78 2.81-2.81c.8-.78.8-2.07 0-2.86zM5.41 20L4 18.59l7.72-7.72 1.47 1.35L5.41 20z\"/>\n",
              "  </svg>\n",
              "      </button>\n",
              "      \n",
              "  <style>\n",
              "    .colab-df-container {\n",
              "      display:flex;\n",
              "      flex-wrap:wrap;\n",
              "      gap: 12px;\n",
              "    }\n",
              "\n",
              "    .colab-df-convert {\n",
              "      background-color: #E8F0FE;\n",
              "      border: none;\n",
              "      border-radius: 50%;\n",
              "      cursor: pointer;\n",
              "      display: none;\n",
              "      fill: #1967D2;\n",
              "      height: 32px;\n",
              "      padding: 0 0 0 0;\n",
              "      width: 32px;\n",
              "    }\n",
              "\n",
              "    .colab-df-convert:hover {\n",
              "      background-color: #E2EBFA;\n",
              "      box-shadow: 0px 1px 2px rgba(60, 64, 67, 0.3), 0px 1px 3px 1px rgba(60, 64, 67, 0.15);\n",
              "      fill: #174EA6;\n",
              "    }\n",
              "\n",
              "    [theme=dark] .colab-df-convert {\n",
              "      background-color: #3B4455;\n",
              "      fill: #D2E3FC;\n",
              "    }\n",
              "\n",
              "    [theme=dark] .colab-df-convert:hover {\n",
              "      background-color: #434B5C;\n",
              "      box-shadow: 0px 1px 3px 1px rgba(0, 0, 0, 0.15);\n",
              "      filter: drop-shadow(0px 1px 2px rgba(0, 0, 0, 0.3));\n",
              "      fill: #FFFFFF;\n",
              "    }\n",
              "  </style>\n",
              "\n",
              "      <script>\n",
              "        const buttonEl =\n",
              "          document.querySelector('#df-855e8fe0-6d12-431b-b538-101dd02ac54e button.colab-df-convert');\n",
              "        buttonEl.style.display =\n",
              "          google.colab.kernel.accessAllowed ? 'block' : 'none';\n",
              "\n",
              "        async function convertToInteractive(key) {\n",
              "          const element = document.querySelector('#df-855e8fe0-6d12-431b-b538-101dd02ac54e');\n",
              "          const dataTable =\n",
              "            await google.colab.kernel.invokeFunction('convertToInteractive',\n",
              "                                                     [key], {});\n",
              "          if (!dataTable) return;\n",
              "\n",
              "          const docLinkHtml = 'Like what you see? Visit the ' +\n",
              "            '<a target=\"_blank\" href=https://colab.research.google.com/notebooks/data_table.ipynb>data table notebook</a>'\n",
              "            + ' to learn more about interactive tables.';\n",
              "          element.innerHTML = '';\n",
              "          dataTable['output_type'] = 'display_data';\n",
              "          await google.colab.output.renderOutput(dataTable, element);\n",
              "          const docLink = document.createElement('div');\n",
              "          docLink.innerHTML = docLinkHtml;\n",
              "          element.appendChild(docLink);\n",
              "        }\n",
              "      </script>\n",
              "    </div>\n",
              "  </div>\n",
              "  "
            ]
          },
          "metadata": {},
          "execution_count": 44
        }
      ],
      "source": [
        "binary_train_X.sample(5)"
      ]
    },
    {
      "cell_type": "code",
      "execution_count": null,
      "metadata": {
        "id": "JLD-Z8SGPUND"
      },
      "outputs": [],
      "source": [
        "#Function to plot the confusion matrix \n",
        "from sklearn import metrics\n",
        "import itertools\n",
        "\n",
        "def plot_confusion_matrix(cm, classes,\n",
        "                          normalize=False,\n",
        "                          title='Confusion matrix',\n",
        "                          cmap=plt.cm.Blues):\n",
        "    \n",
        "    plt.imshow(cm, interpolation='nearest', cmap=cmap)\n",
        "    plt.title(title)\n",
        "    plt.colorbar()\n",
        "    tick_marks = np.arange(len(classes))\n",
        "    plt.xticks(tick_marks, classes, rotation=45)\n",
        "    plt.yticks(tick_marks, classes)\n",
        "\n",
        "    if normalize:\n",
        "        cm = cm.astype('float') / cm.sum(axis=1)[:, np.newaxis]\n",
        "        print(\"Normalized confusion matrix\")\n",
        "    else:\n",
        "        print('Confusion matrix, without normalization')\n",
        "\n",
        "    thresh = cm.max() / 2.\n",
        "    for i, j in itertools.product(range(cm.shape[0]), range(cm.shape[1])):\n",
        "        plt.text(j, i, cm[i, j],\n",
        "                 horizontalalignment=\"center\",\n",
        "                 color=\"white\" if cm[i, j] > thresh else \"black\")\n",
        "\n",
        "    plt.tight_layout()\n",
        "    plt.ylabel('True label')\n",
        "    plt.xlabel('Predicted label')"
      ]
    },
    {
      "cell_type": "code",
      "execution_count": null,
      "metadata": {
        "id": "_VvK_ZrH0BIf"
      },
      "outputs": [],
      "source": [
        "X_train = binary_train_X\n",
        "y_train = binary_train_y\n",
        "X_test = binary_val_X\n",
        "y_test = binary_val_y"
      ]
    },
    {
      "cell_type": "markdown",
      "metadata": {
        "id": "7hGM3tb06NNP"
      },
      "source": [
        "# **AdaBoost**"
      ]
    },
    {
      "cell_type": "code",
      "execution_count": null,
      "metadata": {
        "colab": {
          "base_uri": "https://localhost:8080/"
        },
        "id": "g6YBdcHFNTSb",
        "outputId": "238ca6eb-61dc-4011-82e1-ae13c4f1373f"
      },
      "outputs": [
        {
          "output_type": "execute_result",
          "data": {
            "text/plain": [
              "AdaBoostClassifier(base_estimator=DecisionTreeClassifier(max_depth=1),\n",
              "                   n_estimators=200)"
            ]
          },
          "metadata": {},
          "execution_count": 47
        }
      ],
      "source": [
        "classifier = AdaBoostClassifier(\n",
        "    DecisionTreeClassifier(max_depth=1),\n",
        "    n_estimators=200\n",
        ")\n",
        "classifier.fit(binary_train_X, binary_train_y)"
      ]
    },
    {
      "cell_type": "code",
      "execution_count": null,
      "metadata": {
        "id": "jTfqu-YvNcQO"
      },
      "outputs": [],
      "source": [
        "predictions = classifier.predict(binary_val_X)"
      ]
    },
    {
      "cell_type": "code",
      "execution_count": null,
      "metadata": {
        "colab": {
          "base_uri": "https://localhost:8080/",
          "height": 328
        },
        "id": "_UMH9AUzO4dn",
        "outputId": "841fa107-92b4-4631-f3ff-2d627d19690b"
      },
      "outputs": [
        {
          "output_type": "stream",
          "name": "stdout",
          "text": [
            "Confusion matrix, without normalization\n"
          ]
        },
        {
          "output_type": "display_data",
          "data": {
            "text/plain": [
              "<Figure size 432x288 with 2 Axes>"
            ],
            "image/png": "[encoded data removed]"
          },
          "metadata": {
            "needs_background": "light"
          }
        }
      ],
      "source": [
        "cm = metrics.confusion_matrix(binary_val_y, predictions)\n",
        "plot_confusion_matrix(cm, classes=['Normal', 'Attack'])"
      ]
    },
    {
      "cell_type": "code",
      "execution_count": null,
      "metadata": {
        "colab": {
          "base_uri": "https://localhost:8080/"
        },
        "id": "T8NV1DE6CzrO",
        "outputId": "2275b50b-92ee-4f46-e084-ea1f52fc43bb"
      },
      "outputs": [
        {
          "output_type": "stream",
          "name": "stdout",
          "text": [
            "0.9891307440603215 0.9862123748191438 0.9876694036423559\n"
          ]
        }
      ],
      "source": [
        "from sklearn.metrics import precision_score, recall_score, f1_score, accuracy_score\n",
        "adaboost_recall = recall_score(y_test, predictions)\n",
        "adaboost_precision = precision_score(y_test, predictions)\n",
        "adaboost_f1 = f1_score(y_test, predictions)\n",
        "print(adaboost_recall, adaboost_precision, adaboost_f1)"
      ]
    },
    {
      "cell_type": "code",
      "execution_count": null,
      "metadata": {
        "id": "vQU5CPF1GYc4"
      },
      "outputs": [],
      "source": [
        "adaboost_accuracy = accuracy_score(y_test, predictions)"
      ]
    },
    {
      "cell_type": "markdown",
      "metadata": {
        "id": "xaVah6MzBwCn"
      },
      "source": [
        "# **KNN**"
      ]
    },
    {
      "cell_type": "code",
      "execution_count": null,
      "metadata": {
        "colab": {
          "base_uri": "https://localhost:8080/",
          "height": 280
        },
        "id": "aiznfL4ngao3",
        "outputId": "477a83d7-6f7d-4c00-88c7-33ea88666516"
      },
      "outputs": [
        {
          "output_type": "display_data",
          "data": {
            "text/plain": [
              "<Figure size 432x288 with 1 Axes>"
            ],
            "image/png": "[encoded data removed]"
          },
          "metadata": {
            "needs_background": "light"
          }
        }
      ],
      "source": [
        "from sklearn.neighbors import KNeighborsClassifier\n",
        "neighbors = np.arange(1, 15)\n",
        "train_accuracy = np.empty(len(neighbors))\n",
        "test_accuracy = np.empty(len(neighbors))\n",
        "\n",
        "for i, k in enumerate(neighbors):\n",
        "    knn = KNeighborsClassifier(n_neighbors=k)\n",
        "    knn.fit(X_train, y_train)\n",
        "     \n",
        "    # Compute training and test data accuracy\n",
        "    train_accuracy[i] = knn.score(X_train, y_train)\n",
        "    test_accuracy[i] = knn.score(X_test, y_test)\n",
        " \n",
        "# Generate plot\n",
        "plt.plot(neighbors, test_accuracy, label = 'Testing dataset Accuracy')\n",
        "plt.plot(neighbors, train_accuracy, label = 'Training dataset Accuracy')\n",
        " \n",
        "plt.legend()\n",
        "plt.xlabel('n_neighbors')\n",
        "plt.ylabel('Accuracy')\n",
        "plt.show()"
      ]
    },
    {
      "cell_type": "code",
      "execution_count": null,
      "metadata": {
        "colab": {
          "base_uri": "https://localhost:8080/"
        },
        "id": "w9EC5KImAi0w",
        "outputId": "34bc11cf-a952-41d5-c633-1f4147e7917f"
      },
      "outputs": [
        {
          "output_type": "stream",
          "name": "stdout",
          "text": [
            "Accuracy over test dataset =  0.9914267569856055\n"
          ]
        }
      ],
      "source": [
        "from sklearn.neighbors import KNeighborsClassifier\n",
        "\n",
        "knn = KNeighborsClassifier(n_neighbors=3)\n",
        "knn.fit(binary_train_X, binary_train_y)\n",
        "\n",
        "#print(knn.predict(binary_val_X))\n",
        "print(\"Accuracy over test dataset = \", knn.score(binary_val_X, binary_val_y))\n"
      ]
    },
    {
      "cell_type": "markdown",
      "metadata": {
        "id": "2TLa-a0ylAaY"
      },
      "source": [
        "From the above graph, we can conclude that **k=3** will give the highest accuracy for knn model over test dataset."
      ]
    },
    {
      "cell_type": "code",
      "execution_count": null,
      "metadata": {
        "colab": {
          "base_uri": "https://localhost:8080/",
          "height": 300
        },
        "id": "iwbmUo-GwzcZ",
        "outputId": "8826c14d-2f69-432e-cfcc-1b22e9b32846"
      },
      "outputs": [
        {
          "output_type": "execute_result",
          "data": {
            "text/plain": [
              "<sklearn.metrics._plot.confusion_matrix.ConfusionMatrixDisplay at 0x7f75b8a41e90>"
            ]
          },
          "metadata": {},
          "execution_count": 54
        },
        {
          "output_type": "display_data",
          "data": {
            "text/plain": [
              "<Figure size 432x288 with 2 Axes>"
            ],
            "image/png": "[encoded data removed]"
          },
          "metadata": {
            "needs_background": "light"
          }
        }
      ],
      "source": [
        "import matplotlib.pyplot as plt\n",
        "from sklearn.metrics import plot_confusion_matrix, ConfusionMatrixDisplay\n",
        "cm = confusion_matrix(y_test, knn.predict(X_test), labels=knn.classes_)\n",
        "disp = ConfusionMatrixDisplay(confusion_matrix=cm, display_labels=knn.classes_)\n",
        "disp.plot()"
      ]
    },
    {
      "cell_type": "code",
      "execution_count": null,
      "metadata": {
        "colab": {
          "base_uri": "https://localhost:8080/"
        },
        "id": "SaQLBzrLDnbf",
        "outputId": "be13b387-d343-4882-a6e6-b7c10a52a918"
      },
      "outputs": [
        {
          "output_type": "stream",
          "name": "stdout",
          "text": [
            "0.9933418693982075 0.98828025477707 0.9908045977011495\n"
          ]
        }
      ],
      "source": [
        "from sklearn.metrics import precision_score, recall_score, f1_score, accuracy_score\n",
        "knn_recall = recall_score(y_test, knn.predict(X_test))\n",
        "knn_precision = precision_score(y_test, knn.predict(X_test))\n",
        "knn_f1 = f1_score(y_test, knn.predict(X_test))\n",
        "print(knn_recall, knn_precision, knn_f1)"
      ]
    },
    {
      "cell_type": "code",
      "execution_count": null,
      "metadata": {
        "id": "muXWfYAFGiO1"
      },
      "outputs": [],
      "source": [
        "knn_accuracy = accuracy_score(y_test, knn.predict(X_test))"
      ]
    },
    {
      "cell_type": "markdown",
      "metadata": {
        "id": "47cx_8YIu9Yd"
      },
      "source": [
        "# **Decision Tree**"
      ]
    },
    {
      "cell_type": "code",
      "execution_count": null,
      "metadata": {
        "colab": {
          "base_uri": "https://localhost:8080/"
        },
        "id": "ycy0oOvvlKDh",
        "outputId": "c862cc8d-4fac-479e-b968-d45e37559c5b"
      },
      "outputs": [
        {
          "output_type": "stream",
          "name": "stdout",
          "text": [
            "Accuracy over test data =  0.948520850973751\n"
          ]
        }
      ],
      "source": [
        "#decision tree\n",
        "from sklearn.tree import DecisionTreeRegressor \n",
        "from sklearn import metrics\n",
        "regressor = DecisionTreeRegressor(random_state = 0) \n",
        "  \n",
        "# fit the regressor with X and Y data\n",
        "regressor.fit(X_train, y_train)\n",
        "y_pred = regressor.predict(X_test).astype(int)\n",
        "print(\"Accuracy over test data = \", metrics.accuracy_score(y_test, y_pred))"
      ]
    },
    {
      "cell_type": "code",
      "execution_count": null,
      "metadata": {
        "colab": {
          "base_uri": "https://localhost:8080/"
        },
        "id": "KcL258A0wcpc",
        "outputId": "e843a3e3-bae5-43a0-accc-99787cd9abef"
      },
      "outputs": [
        {
          "output_type": "stream",
          "name": "stdout",
          "text": [
            "[[40384    55]\n",
            " [ 3836 31309]]\n",
            "              precision    recall  f1-score   support\n",
            "\n",
            "           0       0.91      1.00      0.95     40439\n",
            "           1       1.00      0.89      0.94     35145\n",
            "\n",
            "    accuracy                           0.95     75584\n",
            "   macro avg       0.96      0.94      0.95     75584\n",
            "weighted avg       0.95      0.95      0.95     75584\n",
            "\n"
          ]
        }
      ],
      "source": [
        "from sklearn.metrics import classification_report, confusion_matrix\n",
        "print(confusion_matrix(y_test, y_pred))\n",
        "print(classification_report(y_test, y_pred))"
      ]
    },
    {
      "cell_type": "code",
      "execution_count": null,
      "metadata": {
        "colab": {
          "base_uri": "https://localhost:8080/"
        },
        "id": "ki9lWMCpERKS",
        "outputId": "ef693898-4729-48f2-bb4b-94c5fa162e2c"
      },
      "outputs": [
        {
          "output_type": "stream",
          "name": "stdout",
          "text": [
            "0.8908521838099303 0.9982463971432215 0.9414966395525417\n"
          ]
        }
      ],
      "source": [
        "from sklearn.metrics import precision_score, recall_score, f1_score, accuracy_score\n",
        "dt_recall = recall_score(y_test, y_pred)\n",
        "dt_precision = precision_score(y_test, y_pred)\n",
        "dt_f1 = f1_score(y_test, y_pred)\n",
        "print(dt_recall, dt_precision, dt_f1)"
      ]
    },
    {
      "cell_type": "code",
      "execution_count": null,
      "metadata": {
        "id": "-QE5gvKDGy5I"
      },
      "outputs": [],
      "source": [
        "dt_accuracy = accuracy_score(y_test, y_pred)"
      ]
    },
    {
      "cell_type": "markdown",
      "metadata": {
        "id": "wWAnj0neyD4x"
      },
      "source": [
        "# **Naive Bayes Classifier**"
      ]
    },
    {
      "cell_type": "code",
      "execution_count": null,
      "metadata": {
        "id": "Gm4awCnzyDYs"
      },
      "outputs": [],
      "source": [
        "from sklearn.naive_bayes import GaussianNB\n",
        "gnb = GaussianNB()\n",
        "gnb.fit(X_train, y_train)\n",
        " \n",
        "# making predictions on the testing set\n",
        "y_pred = gnb.predict(X_test)\n",
        " \n",
        "# comparing actual response values (y_test) with predicted response values (y_pred)\n",
        "from sklearn import metrics\n",
        "print(\"Accuracy over test data = \", metrics.accuracy_score(y_test, y_pred))"
      ]
    },
    {
      "cell_type": "code",
      "execution_count": null,
      "metadata": {
        "id": "641Zs8DnzTMe"
      },
      "outputs": [],
      "source": [
        "import matplotlib.pyplot as plt\n",
        "from sklearn.metrics import plot_confusion_matrix, ConfusionMatrixDisplay\n",
        "plot_confusion_matrix(gnb, X_test, y_test)"
      ]
    },
    {
      "cell_type": "markdown",
      "metadata": {
        "id": "9s0B8wCYyx4E"
      },
      "source": [
        "# **Random Forest**"
      ]
    },
    {
      "cell_type": "code",
      "execution_count": null,
      "metadata": {
        "colab": {
          "base_uri": "https://localhost:8080/"
        },
        "id": "lEYvDjawyxNK",
        "outputId": "cca7d358-f473-4735-9dbb-79209ce6bf3d"
      },
      "outputs": [
        {
          "output_type": "stream",
          "name": "stdout",
          "text": [
            "Accuracy over test data =  0.9929614733276884\n"
          ]
        }
      ],
      "source": [
        "from sklearn.ensemble import RandomForestClassifier\n",
        "clf = RandomForestClassifier(n_estimators = 100) \n",
        " \n",
        "# Training the model on the training dataset\n",
        "# fit function is used to train the model using the training sets as parameters\n",
        "clf.fit(X_train, y_train)\n",
        " \n",
        "# performing predictions on the test dataset\n",
        "y_pred = clf.predict(X_test)\n",
        "\n",
        "print(\"Accuracy over test data = \", metrics.accuracy_score(y_test, y_pred))"
      ]
    },
    {
      "cell_type": "code",
      "execution_count": null,
      "metadata": {
        "colab": {
          "base_uri": "https://localhost:8080/",
          "height": 300
        },
        "id": "ZwRlRlcz1bp2",
        "outputId": "d8fb5355-23aa-4363-da11-1477f359ac28"
      },
      "outputs": [
        {
          "output_type": "execute_result",
          "data": {
            "text/plain": [
              "<sklearn.metrics._plot.confusion_matrix.ConfusionMatrixDisplay at 0x7f75b3a63b10>"
            ]
          },
          "metadata": {},
          "execution_count": 62
        },
        {
          "output_type": "display_data",
          "data": {
            "text/plain": [
              "<Figure size 432x288 with 2 Axes>"
            ],
            "image/png": "[encoded data removed]"
          },
          "metadata": {
            "needs_background": "light"
          }
        }
      ],
      "source": [
        "import matplotlib.pyplot as plt\n",
        "from sklearn.metrics import plot_confusion_matrix, ConfusionMatrixDisplay\n",
        "cm = confusion_matrix(y_test, y_pred, labels=clf.classes_)\n",
        "disp = ConfusionMatrixDisplay(confusion_matrix=cm, display_labels=clf.classes_)\n",
        "disp.plot()"
      ]
    },
    {
      "cell_type": "code",
      "execution_count": null,
      "metadata": {
        "colab": {
          "base_uri": "https://localhost:8080/"
        },
        "id": "_mBYu9TbEy6k",
        "outputId": "44937a69-199e-46ac-8641-3bf86689275a"
      },
      "outputs": [
        {
          "output_type": "stream",
          "name": "stdout",
          "text": [
            "0.9945938255797411 0.9903107912853784 0.9924476874591863\n"
          ]
        }
      ],
      "source": [
        "from sklearn.metrics import precision_score, recall_score, f1_score, accuracy_score\n",
        "rf_recall = recall_score(y_test, y_pred)\n",
        "rf_precision = precision_score(y_test, y_pred)\n",
        "rf_f1 = f1_score(y_test, y_pred)\n",
        "print(rf_recall, rf_precision, rf_f1)"
      ]
    },
    {
      "cell_type": "code",
      "execution_count": null,
      "metadata": {
        "id": "52d8l-mJG5fq"
      },
      "outputs": [],
      "source": [
        "rf_accuracy = accuracy_score(y_test, y_pred)"
      ]
    },
    {
      "cell_type": "markdown",
      "metadata": {
        "id": "c7Bg0dIt2LHN"
      },
      "source": [
        "# **Support Vector Machine (SVM)**"
      ]
    },
    {
      "cell_type": "code",
      "execution_count": null,
      "metadata": {
        "id": "iBu0jHz_3TIf"
      },
      "outputs": [],
      "source": [
        "from sklearn.svm import SVC  \n",
        "clf = SVC(kernel='rbf') \n",
        "  \n",
        "# fitting x samples and y classes \n",
        "clf.fit(X_train, y_train)\n",
        "y_pred = clf.predict(X_test)\n",
        "print(\"Accuracy over test data = \", metrics.accuracy_score(y_test, y_pred))"
      ]
    },
    {
      "cell_type": "markdown",
      "metadata": {
        "id": "Nk4cTwKh2kh9"
      },
      "source": [
        "# **Ensemble**"
      ]
    },
    {
      "cell_type": "code",
      "execution_count": null,
      "metadata": {
        "colab": {
          "base_uri": "https://localhost:8080/"
        },
        "id": "W8cw9G7C11R_",
        "outputId": "756af80d-5ec0-47f7-88d5-df41405bef80"
      },
      "outputs": [
        {
          "output_type": "stream",
          "name": "stdout",
          "text": [
            "Collecting vecstack\n",
            "  Downloading vecstack-0.4.0.tar.gz (18 kB)\n",
            "Requirement already satisfied: numpy in /usr/local/lib/python3.7/dist-packages (from vecstack) (1.21.6)\n",
            "Requirement already satisfied: scipy in /usr/local/lib/python3.7/dist-packages (from vecstack) (1.4.1)\n",
            "Requirement already satisfied: scikit-learn>=0.18 in /usr/local/lib/python3.7/dist-packages (from vecstack) (1.0.2)\n",
            "Requirement already satisfied: joblib>=0.11 in /usr/local/lib/python3.7/dist-packages (from scikit-learn>=0.18->vecstack) (1.1.0)\n",
            "Requirement already satisfied: threadpoolctl>=2.0.0 in /usr/local/lib/python3.7/dist-packages (from scikit-learn>=0.18->vecstack) (3.1.0)\n",
            "Building wheels for collected packages: vecstack\n",
            "  Building wheel for vecstack (setup.py) ... \u001b[?25l\u001b[?25hdone\n",
            "  Created wheel for vecstack: filename=vecstack-0.4.0-py3-none-any.whl size=19877 sha256=f51e0437aa21dd33d06d87b63d1064ecd2bbced93ee98efc16980da291c424b6\n",
            "  Stored in directory: /root/.cache/pip/wheels/28/fe/0c/fe8e43660e3316d7ce204e59a79a72246c0ae9b6c5c79841c8\n",
            "Successfully built vecstack\n",
            "Installing collected packages: vecstack\n",
            "Successfully installed vecstack-0.4.0\n"
          ]
        }
      ],
      "source": [
        "!pip install vecstack"
      ]
    },
    {
      "cell_type": "code",
      "execution_count": null,
      "metadata": {
        "colab": {
          "base_uri": "https://localhost:8080/"
        },
        "id": "djvaox152QkS",
        "outputId": "4d92494a-4792-4c53-a0ad-b105e1ebf48d"
      },
      "outputs": [
        {
          "output_type": "stream",
          "name": "stdout",
          "text": [
            "<class 'pandas.core.series.Series'>\n"
          ]
        },
        {
          "output_type": "execute_result",
          "data": {
            "text/plain": [
              "(50388,)"
            ]
          },
          "metadata": {},
          "execution_count": 66
        }
      ],
      "source": [
        "print(type(y_train))\n",
        "y_train.shape"
      ]
    },
    {
      "cell_type": "markdown",
      "metadata": {
        "id": "L2c9g8p5_wnj"
      },
      "source": [
        "# **ENSEMBLE MODEL**"
      ]
    },
    {
      "cell_type": "code",
      "execution_count": null,
      "metadata": {
        "colab": {
          "base_uri": "https://localhost:8080/"
        },
        "id": "Sek2nuDlAeTJ",
        "outputId": "8fe62175-0b28-4349-dff3-50f7fa8e4da5"
      },
      "outputs": [
        {
          "output_type": "stream",
          "name": "stdout",
          "text": [
            "accuracy score of Stacked model: 99.26571761219306\n"
          ]
        }
      ],
      "source": [
        "from vecstack import stacking\n",
        "import numpy as np\n",
        "import six\n",
        "import sys\n",
        "sys.modules['sklearn.externals.six'] = six\n",
        "\n",
        "from mlxtend.classifier import StackingClassifier\n",
        "\n",
        "model_1 = classifier #adaboost\n",
        "model_2 = knn #knn\n",
        "model_3 = clf #random forest\n",
        "model_4 = regressor #decision tree\n",
        "# putting all base model objects in one list\n",
        "all_models = [model_2, model_3, model_4]\n",
        "\n",
        "clf_stack = StackingClassifier(classifiers =all_models, meta_classifier = model_1, average_probas = True, use_features_in_secondary = True)\n",
        "\n",
        "model_stack = clf_stack.fit(X_train, y_train)   # training of stacked model\n",
        "pred_stack = model_stack.predict(X_test)  \n",
        "\n",
        "acc_stack = accuracy_score(y_test, pred_stack)  # evaluating accuracy\n",
        "print('accuracy score of Stacked model:', acc_stack * 100)\n"
      ]
    },
    {
      "cell_type": "code",
      "execution_count": null,
      "metadata": {
        "colab": {
          "base_uri": "https://localhost:8080/"
        },
        "id": "hTkt9_abF7Oj",
        "outputId": "4669a295-5d17-4723-b072-3d687c249370"
      },
      "outputs": [
        {
          "output_type": "stream",
          "name": "stdout",
          "text": [
            "0.9945938255797411 0.9896659116647791 0.9921237493791243\n"
          ]
        }
      ],
      "source": [
        "from sklearn.metrics import precision_score, recall_score, f1_score, accuracy_score\n",
        "stacked_recall = recall_score(y_test, pred_stack)\n",
        "stacked_precision = precision_score(y_test, pred_stack)\n",
        "stacked_f1 = f1_score(y_test, pred_stack)\n",
        "print(stacked_recall, stacked_precision, stacked_f1)"
      ]
    },
    {
      "cell_type": "code",
      "execution_count": null,
      "metadata": {
        "colab": {
          "base_uri": "https://localhost:8080/"
        },
        "id": "8rQzkaqzHFJB",
        "outputId": "b082ac89-7f8b-4866-d619-bec0dfd0435b"
      },
      "outputs": [
        {
          "output_type": "stream",
          "name": "stdout",
          "text": [
            "0.9926571761219306\n"
          ]
        }
      ],
      "source": [
        "stacked_accuracy = accuracy_score(y_test, pred_stack)\n",
        "print(stacked_accuracy)"
      ]
    },
    {
      "cell_type": "markdown",
      "metadata": {
        "id": "WFcKzJA_FeZx"
      },
      "source": [
        "# **VISUALIZATION**"
      ]
    },
    {
      "cell_type": "code",
      "execution_count": null,
      "metadata": {
        "colab": {
          "base_uri": "https://localhost:8080/",
          "height": 367
        },
        "id": "1iwgIp4BFd_G",
        "outputId": "2ca5027e-a58d-41b2-b845-43d92c1d0553"
      },
      "outputs": [
        {
          "output_type": "display_data",
          "data": {
            "text/plain": [
              "<Figure size 720x360 with 1 Axes>"
            ],
            "image/png": "[encoded data removed]"
          },
          "metadata": {
            "needs_background": "light"
          }
        },
        {
          "output_type": "stream",
          "name": "stdout",
          "text": [
            "[99.14267569856054, 94.85208509737511, 99.29614733276884, 98.85160880609652, 99.26571761219306]\n"
          ]
        }
      ],
      "source": [
        "#accuracy scores\n",
        "accuracy_scores = [\"knn\", \"decision tree\", \"random forest\", \"adaboost\", \"ensemble model\"]\n",
        "scores = [knn_accuracy*100, dt_accuracy*100, rf_accuracy*100, adaboost_accuracy*100, stacked_accuracy*100]\n",
        "fig = plt.figure(figsize = (10, 5))\n",
        "plt.bar(accuracy_scores, scores, color ='blue', width = 0.4)\n",
        " \n",
        "plt.xlabel(\"Classifier\")\n",
        "plt.ylabel(\"Accuracy\")\n",
        "plt.title(\"Accuracy Scores\")\n",
        "plt.show()\n",
        "print(scores)"
      ]
    },
    {
      "cell_type": "code",
      "execution_count": null,
      "metadata": {
        "colab": {
          "base_uri": "https://localhost:8080/",
          "height": 367
        },
        "id": "tiNOcE9LIRcx",
        "outputId": "2966b415-1f17-4561-bfac-277199dd949b"
      },
      "outputs": [
        {
          "output_type": "display_data",
          "data": {
            "text/plain": [
              "<Figure size 720x360 with 1 Axes>"
            ],
            "image/png": "[encoded data removed]"
          },
          "metadata": {
            "needs_background": "light"
          }
        },
        {
          "output_type": "stream",
          "name": "stdout",
          "text": [
            "[0.98828025477707, 0.9982463971432215, 0.9903107912853784, 0.9862123748191438, 0.9896659116647791]\n"
          ]
        }
      ],
      "source": [
        "#precision scores\n",
        "algos = [\"knn\", \"decision tree\", \"random forest\", \"adaboost\", \"ensemble model\"]\n",
        "scores = [knn_precision, dt_precision, rf_precision, adaboost_precision, stacked_precision]\n",
        "fig = plt.figure(figsize = (10, 5))\n",
        "plt.bar(algos, scores, color ='blue', width = 0.4)\n",
        " \n",
        "plt.xlabel(\"Classifier\")\n",
        "plt.ylabel(\"Precision scores\")\n",
        "plt.title(\"Precision Scores\")\n",
        "plt.show()\n",
        "print(scores)"
      ]
    },
    {
      "cell_type": "code",
      "execution_count": null,
      "metadata": {
        "colab": {
          "base_uri": "https://localhost:8080/",
          "height": 367
        },
        "id": "glP_Y5_ZI0qb",
        "outputId": "b80e5f59-0d25-4fc2-c220-284c621bbb87"
      },
      "outputs": [
        {
          "output_type": "display_data",
          "data": {
            "text/plain": [
              "<Figure size 720x360 with 1 Axes>"
            ],
            "image/png": "[encoded data removed]"
          },
          "metadata": {
            "needs_background": "light"
          }
        },
        {
          "output_type": "stream",
          "name": "stdout",
          "text": [
            "[0.9933418693982075, 0.8908521838099303, 0.9945938255797411, 0.9891307440603215, 0.9945938255797411]\n"
          ]
        }
      ],
      "source": [
        "#recall scores\n",
        "algos = [\"knn\", \"decision tree\", \"random forest\", \"adaboost\", \"ensemble model\"]\n",
        "scores = [knn_recall, dt_recall, rf_recall, adaboost_recall, stacked_recall]\n",
        "fig = plt.figure(figsize = (10, 5))\n",
        "plt.bar(algos, scores, color ='blue', width = 0.4)\n",
        " \n",
        "plt.xlabel(\"Classifier\")\n",
        "plt.ylabel(\"Recall scores\")\n",
        "plt.title(\"Recall Scores\")\n",
        "plt.show()\n",
        "print(scores)"
      ]
    },
    {
      "cell_type": "code",
      "execution_count": null,
      "metadata": {
        "colab": {
          "base_uri": "https://localhost:8080/",
          "height": 367
        },
        "id": "5XakUjD9J40m",
        "outputId": "a7f3368d-1bcb-4408-e823-522ea1047ed0"
      },
      "outputs": [
        {
          "output_type": "display_data",
          "data": {
            "text/plain": [
              "<Figure size 720x360 with 1 Axes>"
            ],
            "image/png": "[encoded data removed]"
          },
          "metadata": {
            "needs_background": "light"
          }
        },
        {
          "output_type": "stream",
          "name": "stdout",
          "text": [
            "[0.9908045977011495, 0.9414966395525417, 0.9924476874591863, 0.9876694036423559, 0.9921237493791243]\n"
          ]
        }
      ],
      "source": [
        "#f1 scores\n",
        "algos = [\"knn\", \"decision tree\", \"random forest\", \"adaboost\", \"ensemble model\"]\n",
        "scores = [knn_f1, dt_f1, rf_f1, adaboost_f1, stacked_f1]\n",
        "fig = plt.figure(figsize = (10, 5))\n",
        "plt.bar(algos, scores, color ='blue', width = 0.4)\n",
        " \n",
        "plt.xlabel(\"Classifier\")\n",
        "plt.ylabel(\"F1 scores\")\n",
        "plt.title(\"F1 Scores\")\n",
        "plt.show()\n",
        "print(scores)"
      ]
    }
  ],
  "metadata": {
    "colab": {
      "collapsed_sections": [],
      "name": "ISM J comp",
      "provenance": []
    },
    "kernelspec": {
      "display_name": "Python 3",
      "name": "python3"
    },
    "language_info": {
      "name": "python"
    }
  },
  "nbformat": 4,
  "nbformat_minor": 0
}